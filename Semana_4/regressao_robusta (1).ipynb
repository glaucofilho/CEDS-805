{
  "nbformat": 4,
  "nbformat_minor": 0,
  "metadata": {
    "colab": {
      "provenance": []
    },
    "kernelspec": {
      "name": "python3",
      "display_name": "Python 3"
    },
    "language_info": {
      "name": "python"
    }
  },
  "cells": [
    {
      "cell_type": "code",
      "execution_count": null,
      "metadata": {
        "colab": {
          "base_uri": "https://localhost:8080/",
          "height": 799
        },
        "id": "yIjuiWotsLiT",
        "outputId": "bc147ea8-7519-4c94-c3d2-a1584432f826"
      },
      "outputs": [
        {
          "output_type": "stream",
          "name": "stdout",
          "text": [
            "                    Robust linear Model Regression Results                    \n",
            "==============================================================================\n",
            "Dep. Variable:                      Y   No. Observations:                  100\n",
            "Model:                            RLM   Df Residuals:                       98\n",
            "Method:                          IRLS   Df Model:                            1\n",
            "Norm:                          HuberT                                         \n",
            "Scale Est.:                       mad                                         \n",
            "Cov Type:                          H1                                         \n",
            "Date:                Tue, 03 Oct 2023                                         \n",
            "Time:                        00:09:02                                         \n",
            "No. Iterations:                    19                                         \n",
            "==============================================================================\n",
            "                 coef    std err          z      P>|z|      [0.025      0.975]\n",
            "------------------------------------------------------------------------------\n",
            "const          1.0617      0.041     26.183      0.000       0.982       1.141\n",
            "X              1.8913      0.073     25.916      0.000       1.748       2.034\n",
            "==============================================================================\n",
            "\n",
            "If the model instance has been used for another fit with different fit parameters, then the fit options might not be the correct ones anymore .\n"
          ]
        },
        {
          "output_type": "display_data",
          "data": {
            "text/plain": [
              "<Figure size 640x480 with 1 Axes>"
            ],
            "image/png": "[encoded data removed]"
          },
          "metadata": {}
        }
      ],
      "source": [
        "import numpy as np\n",
        "import pandas as pd\n",
        "import statsmodels.api as sm\n",
        "import matplotlib.pyplot as plt\n",
        "\n",
        "dados = pd.read_parquet(\"dados_robustos.parquet\")\n",
        "X = dados.X\n",
        "Y = dados.Y\n",
        "\n",
        "# Ajustar o modelo de regressão robusta usando statsmodels\n",
        "X_const = sm.add_constant(X)  # Adicionar constante à matriz X\n",
        "#model = sm.OLS(Y, X_const)  # Usar estimador OLS\n",
        "model = sm.RLM(Y, X_const, M=sm.robust.norms.HuberT())  # Usar o estimador de Huber\n",
        "results = model.fit()\n",
        "\n",
        "# Imprimir os resultados da regressão robusta\n",
        "print(results.summary())\n",
        "\n",
        "# Plotar os dados e a linha de regressão\n",
        "plt.scatter(X, Y, label='Dados', color='blue')\n",
        "plt.plot(X, results.predict(X_const), label='Regressão Robusta', color='red')\n",
        "plt.xlabel('X')\n",
        "plt.ylabel('Y')\n",
        "plt.legend()\n",
        "plt.show()"
      ]
    },
    {
      "cell_type": "code",
      "source": [],
      "metadata": {
        "id": "Eb8Ksm2RsdWQ"
      },
      "execution_count": null,
      "outputs": []
    },
    {
      "cell_type": "markdown",
      "source": [
        "# **Exercicio Regressão Robusta**\n",
        "\n",
        "**Análise de Preços Imobiliários com Regressão Robusta**\n",
        "\n",
        "* Objetivo:\n",
        "\n",
        "Realizar uma análise de preços imobiliários em uma cidade, considerando a presença de outliers e dados incomuns, usando a regressão robusta para modelar o relacionamento entre as características das propriedades e seus preços.\n",
        "\n",
        "* Dados:\n",
        "\n",
        "Você tem um conjunto de dados que contém informações sobre propriedades imobiliárias na cidade, incluindo características como tamanho da área, número de quartos, localização e idade da construção, além do preço de venda de cada propriedade. Os dados estão presentes em \"dados_imobiliarios.parquet\"."
      ],
      "metadata": {
        "id": "zVUwh7tAwKZL"
      }
    },
    {
      "cell_type": "code",
      "source": [
        "dados_imobiliarios = pd.read_parquet(\"dados_imobiliarios.parquet\")\n",
        "\n",
        "X = dados_imobiliarios.drop([\"Preco\"], axis = 1)\n",
        "Y = dados_imobiliarios.Preco\n",
        "\n",
        "X_const = sm.add_constant(X)\n",
        "model = sm.RLM(Y, X_const, M=sm.robust.norms.HuberT()).fit()\n",
        "# model = sm.OLS(Y, X_const).fit()\n",
        "\n",
        "print(model.summary())\n",
        "\n"
      ],
      "metadata": {
        "id": "_6PSSmvUwN5t",
        "colab": {
          "base_uri": "https://localhost:8080/"
        },
        "outputId": "ccbec3ce-90aa-4020-a9c4-42a888bb617a"
      },
      "execution_count": null,
      "outputs": [
        {
          "output_type": "stream",
          "name": "stdout",
          "text": [
            "                    Robust linear Model Regression Results                    \n",
            "==============================================================================\n",
            "Dep. Variable:                  Preco   No. Observations:                  300\n",
            "Model:                            RLM   Df Residuals:                      296\n",
            "Method:                          IRLS   Df Model:                            3\n",
            "Norm:                          HuberT                                         \n",
            "Scale Est.:                       mad                                         \n",
            "Cov Type:                          H1                                         \n",
            "Date:                Tue, 03 Oct 2023                                         \n",
            "Time:                        00:46:35                                         \n",
            "No. Iterations:                     8                                         \n",
            "==============================================================================\n",
            "                 coef    std err          z      P>|z|      [0.025      0.975]\n",
            "------------------------------------------------------------------------------\n",
            "const       1.271e+04   3304.954      3.847      0.000    6235.871    1.92e+04\n",
            "Area         298.7225      1.051    284.284      0.000     296.663     300.782\n",
            "Quartos     5190.3875    641.204      8.095      0.000    3933.650    6447.125\n",
            "Idade       -219.2733     56.602     -3.874      0.000    -330.212    -108.335\n",
            "==============================================================================\n",
            "\n",
            "If the model instance has been used for another fit with different fit parameters, then the fit options might not be the correct ones anymore .\n"
          ]
        }
      ]
    },
    {
      "cell_type": "code",
      "source": [],
      "metadata": {
        "id": "ahxqPQTs_hhd"
      },
      "execution_count": null,
      "outputs": []
    }
  ]
}