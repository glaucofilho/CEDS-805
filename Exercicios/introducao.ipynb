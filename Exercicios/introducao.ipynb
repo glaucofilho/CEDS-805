{
 "cells": [
  {
   "cell_type": "markdown",
   "metadata": {
    "id": "QICtAfYMu3r0"
   },
   "source": [
    "# Exercícios Análise de Regressão"
   ]
  },
  {
   "cell_type": "markdown",
   "metadata": {},
   "source": [
    "-----\n",
    "\n",
    "## Introdução\n",
    "\n",
    "-----"
   ]
  },
  {
   "cell_type": "markdown",
   "metadata": {},
   "source": [
    "### 1 - Ajustando um Modelo de Regressão Linear Simples\n",
    "\n",
    "Suponha que você tenha um conjunto de dados com duas variáveis: X (variável independente) e Y (variável dependente). Crie um conjunto de dados hipotético e ajuste um modelo de regressão linear simples para prever Y com base em X. Em seguida, calcule os coeficientes da regressão e o coeficiente de determinação (R²). Interprete os resultados.\n",
    "\n"
   ]
  },
  {
   "cell_type": "code",
   "execution_count": 1,
   "metadata": {},
   "outputs": [],
   "source": [
    "# Importando as bibliotecas necessárias\n",
    "import numpy as np\n",
    "import statsmodels.api as sm\n",
    "import matplotlib.pyplot as plt\n",
    "import pandas as pd"
   ]
  },
  {
   "cell_type": "code",
   "execution_count": 2,
   "metadata": {},
   "outputs": [],
   "source": [
    "# Criando um conjunto de dados Fake\n",
    "np.random.seed(11102023)\n",
    "X = 2.5 * np.random.rand(100, 1)  # Variável independente X\n",
    "Y = 2.7 * X + np.random.randn(100, 1)  # Variável dependente Y com ruído\n",
    "X = [x[0] for x in X] # Converte em uma lista simples\n",
    "Y = [y[0] for y in Y] # Converte em uma lista simples"
   ]
  },
  {
   "cell_type": "code",
   "execution_count": 3,
   "metadata": {},
   "outputs": [
    {
     "data": {
      "image/png": "[encoded data removed]",
      "text/plain": [
       "<Figure size 640x480 with 1 Axes>"
      ]
     },
     "metadata": {},
     "output_type": "display_data"
    }
   ],
   "source": [
    "# Plotando o conjunto de dados\n",
    "plt.scatter(X, Y)\n",
    "plt.xlabel('X')\n",
    "plt.ylabel('Y')\n",
    "plt.title('Conjunto de Dados Fake')\n",
    "plt.show()"
   ]
  },
  {
   "cell_type": "markdown",
   "metadata": {},
   "source": [
    "#### Utilizando a definição"
   ]
  },
  {
   "cell_type": "code",
   "execution_count": 4,
   "metadata": {},
   "outputs": [
    {
     "name": "stdout",
     "output_type": "stream",
     "text": [
      "Coeficiente Angular: 2.6408625959421492\n",
      "Coeficiente Linear: 0.10713603503367564\n",
      "Coeficiente de Determinação (R²): 0.8097313978857213\n"
     ]
    }
   ],
   "source": [
    "\n",
    "media_X = np.mean(X)\n",
    "media_Y = np.mean(Y)\n",
    "\n",
    "desvios_produto = np.sum((X - media_X) * (Y - media_Y))\n",
    "desvios_quadrados_X = np.sum((X - media_X) ** 2)\n",
    "\n",
    "beta = desvios_produto / desvios_quadrados_X\n",
    "\n",
    "alfa = media_Y - beta * media_X\n",
    "\n",
    "desvios_quadrados_Y = np.sum((Y - media_Y) ** 2)\n",
    "r_2 = desvios_produto ** 2 / (desvios_quadrados_X * desvios_quadrados_Y)\n",
    "\n",
    "print(\"Coeficiente Angular:\", beta)\n",
    "print(\"Coeficiente Linear:\", alfa)\n",
    "print(\"Coeficiente de Determinação (R²):\", r_2)"
   ]
  },
  {
   "cell_type": "markdown",
   "metadata": {},
   "source": [
    "#### Utilizando biblioteca pronta"
   ]
  },
  {
   "cell_type": "code",
   "execution_count": 5,
   "metadata": {},
   "outputs": [
    {
     "name": "stdout",
     "output_type": "stream",
     "text": [
      "                            OLS Regression Results                            \n",
      "==============================================================================\n",
      "Dep. Variable:                      y   R-squared:                       0.810\n",
      "Model:                            OLS   Adj. R-squared:                  0.808\n",
      "Method:                 Least Squares   F-statistic:                     417.1\n",
      "Date:                Thu, 19 Oct 2023   Prob (F-statistic):           4.36e-37\n",
      "Time:                        19:31:14   Log-Likelihood:                -130.24\n",
      "No. Observations:                 100   AIC:                             264.5\n",
      "Df Residuals:                      98   BIC:                             269.7\n",
      "Df Model:                           1                                         \n",
      "Covariance Type:            nonrobust                                         \n",
      "==============================================================================\n",
      "                 coef    std err          t      P>|t|      [0.025      0.975]\n",
      "------------------------------------------------------------------------------\n",
      "const          0.1071      0.174      0.617      0.539      -0.238       0.452\n",
      "x1             2.6409      0.129     20.422      0.000       2.384       2.897\n",
      "==============================================================================\n",
      "Omnibus:                        0.582   Durbin-Watson:                   1.959\n",
      "Prob(Omnibus):                  0.748   Jarque-Bera (JB):                0.717\n",
      "Skew:                           0.098   Prob(JB):                        0.699\n",
      "Kurtosis:                       2.634   Cond. No.                         3.77\n",
      "==============================================================================\n",
      "\n",
      "Notes:\n",
      "[1] Standard Errors assume that the covariance matrix of the errors is correctly specified.\n",
      "Coeficiente Angular: 2.6408625959421475\n",
      "Coeficiente Linear: 0.10713603503367582\n",
      "Coeficiente de Determinação (R²): 0.8097313978857213\n"
     ]
    }
   ],
   "source": [
    "X_sm = sm.add_constant(X)\n",
    "\n",
    "modelo = sm.OLS(Y, X_sm)\n",
    "\n",
    "resultado = modelo.fit()\n",
    "\n",
    "print(resultado.summary())\n",
    "\n",
    "beta_sm = resultado.params[1]\n",
    "alfa_sm = resultado.params[0]\n",
    "r_2_sm = resultado.rsquared\n",
    "\n",
    "print(\"Coeficiente Angular:\", beta_sm)\n",
    "print(\"Coeficiente Linear:\", alfa_sm)\n",
    "print(\"Coeficiente de Determinação (R²):\", r_2_sm)"
   ]
  },
  {
   "cell_type": "markdown",
   "metadata": {},
   "source": [
    "#### Plotando dados com a função gerada"
   ]
  },
  {
   "cell_type": "code",
   "execution_count": 6,
   "metadata": {},
   "outputs": [
    {
     "data": {
      "image/png": "[encoded data removed]",
      "text/plain": [
       "<Figure size 640x480 with 1 Axes>"
      ]
     },
     "metadata": {},
     "output_type": "display_data"
    }
   ],
   "source": [
    "# Valores estimados da função gerada\n",
    "Y_est = alfa + beta * np.array(X)\n",
    "\n",
    "# Plotagem dos dados e da função gerada\n",
    "plt.scatter(X, Y, label='Dados Fake')\n",
    "plt.plot(X, Y_est, color='red', label='Regressão Linear (Y = 0.1071 + 2.6409 . X)')\n",
    "plt.xlabel('X')\n",
    "plt.ylabel('Y')\n",
    "plt.legend()\n",
    "plt.title('Regressão Linear e Dados Fake')\n",
    "plt.show()"
   ]
  },
  {
   "cell_type": "markdown",
   "metadata": {},
   "source": [
    "#### Interpretação dos Resultados\n",
    "\n",
    "A interpretação dos resultados sugere que existe uma relação positiva entre a variável X e Y, com um aumento médio de 2,64 unidades Y para cada unidade X. O modelo de regressão linear parece adequado para os dados, explicando aproximadamente 80,97% da variabilidade dos dados.\n",
    "\n",
    "\n",
    "É importante frisar que os resultados encontrados pelo cálculo através da definição e entregues pela lib statsmodel foram identicos!"
   ]
  },
  {
   "cell_type": "markdown",
   "metadata": {},
   "source": [
    "\n",
    "\n",
    "\n",
    "\n",
    "_____\n",
    "\n",
    "\n",
    "\n"
   ]
  },
  {
   "cell_type": "markdown",
   "metadata": {},
   "source": [
    "### 2 - Regressão Linear Múltipla\n",
    "\n",
    "Agora, adicione uma segunda variável independente, Z, ao conjunto de dados do Exercício 1. Ajuste um modelo de regressão linear múltipla para prever Y com base em X e Z. Calcule os coeficientes da regressão e interprete o efeito de X e Z sobre Y."
   ]
  },
  {
   "cell_type": "code",
   "execution_count": 7,
   "metadata": {},
   "outputs": [],
   "source": [
    "Z = 4.7 * np.random.rand(100, 1)  # Variável independente Z\n",
    "Z = [z[0] for z in Z] # Converte em uma lista simples"
   ]
  },
  {
   "cell_type": "markdown",
   "metadata": {},
   "source": [
    "#### Utilizando a Definição"
   ]
  },
  {
   "cell_type": "code",
   "execution_count": 8,
   "metadata": {},
   "outputs": [],
   "source": [
    "# Criar matriz XZ com colunas de X e Z\n",
    "XZ = np.array([X, Z]).T\n",
    "XZ = np.column_stack((np.ones(len(XZ)), XZ))\n",
    "\n",
    "# # Criar vetor R\n",
    "R = np.array(Y).reshape(-1, 1)\n",
    " \n",
    "# Calcular os coeficientes usando a fórmula dos mínimos quadrados (X'X)^{-1}X'y\n",
    "coeficientes = np.linalg.inv(XZ.T @ XZ) @ XZ.T @ R\n"
   ]
  },
  {
   "cell_type": "code",
   "execution_count": 9,
   "metadata": {},
   "outputs": [
    {
     "name": "stdout",
     "output_type": "stream",
     "text": [
      "Coeficientes encontrados: [0.03929814]   [2.64418957]   [0.02624194]\n"
     ]
    }
   ],
   "source": [
    "print(f'Coeficientes encontrados: {coeficientes[0]}   {coeficientes[1]}   {coeficientes[2]}')"
   ]
  },
  {
   "cell_type": "markdown",
   "metadata": {},
   "source": [
    "#### Resíduos"
   ]
  },
  {
   "cell_type": "code",
   "execution_count": 10,
   "metadata": {},
   "outputs": [
    {
     "data": {
      "text/plain": [
       "array([-1.43157639e+00,  3.40629638e-02, -9.50149042e-01,  3.52257014e-01,\n",
       "       -1.86550095e-01, -5.50539141e-01,  1.21247157e+00, -2.52830035e-01,\n",
       "       -1.75388490e+00,  7.17462030e-01,  8.15834239e-01,  6.43795575e-02,\n",
       "        8.69352694e-01, -4.72423025e-01, -1.53016309e-01, -6.02313014e-01,\n",
       "        1.09700489e+00, -4.03551018e-01,  1.28085127e+00,  1.81186288e+00,\n",
       "       -3.81721029e-01,  1.91232298e+00, -5.99454084e-01, -1.29301793e+00,\n",
       "        2.23762516e-01, -1.67109878e+00, -1.33623702e+00, -6.92646274e-01,\n",
       "       -1.55556086e-02,  5.78836341e-01,  1.65881252e+00, -9.20230115e-01,\n",
       "        1.59209767e+00,  3.51541783e-01,  8.51544357e-01,  9.80768025e-01,\n",
       "        2.85088764e-01, -1.95716931e-01,  2.63675249e-01,  3.34628679e-01,\n",
       "       -3.81711451e-01,  1.82228535e+00, -8.00055045e-01,  1.17324338e+00,\n",
       "        2.96298078e-02,  1.37499288e+00,  5.65811000e-01,  1.51685392e-02,\n",
       "        4.44843260e-01, -7.13063647e-01,  5.28932408e-02,  2.57100532e-02,\n",
       "       -3.63136181e-02,  6.16842216e-02, -9.72207182e-01, -3.64306551e-02,\n",
       "        5.67494546e-01,  1.57747775e+00,  9.98248203e-01,  6.83304373e-01,\n",
       "       -3.61903738e-01,  6.25207717e-01,  4.34657777e-01,  2.73419922e-01,\n",
       "       -6.69293077e-01,  1.26847186e+00, -9.65098694e-01,  3.30634939e-01,\n",
       "        1.86029896e+00, -8.46786125e-01, -1.43552214e+00, -1.30527254e+00,\n",
       "       -8.59704788e-01,  1.68239611e-01, -5.77041136e-01, -7.32874656e-01,\n",
       "       -2.35450147e+00,  3.27210656e-01, -8.01852779e-01, -2.33831101e-01,\n",
       "        1.40701596e-01, -4.53212758e-01, -1.57194977e-03, -1.76760954e-01,\n",
       "        1.19845877e+00, -7.73394362e-01,  2.75090187e-01, -2.75342742e-01,\n",
       "       -6.44676008e-01, -6.70759193e-01,  8.70347027e-01,  1.70689729e-01,\n",
       "        5.91947664e-02, -5.45226409e-01,  4.30072254e-01, -1.02599504e+00,\n",
       "       -8.79529630e-01, -1.08153915e+00,  5.40270020e-01, -1.18038761e+00])"
      ]
     },
     "execution_count": 10,
     "metadata": {},
     "output_type": "execute_result"
    }
   ],
   "source": [
    "# Estimativa de Y usando X + Z\n",
    "Y_est = XZ @ coeficientes\n",
    "\n",
    "# Desvios de Estimativa vs Real\n",
    "np.array(Y) - np.array(Y_est).T[0]"
   ]
  },
  {
   "cell_type": "code",
   "execution_count": 11,
   "metadata": {},
   "outputs": [
    {
     "name": "stdout",
     "output_type": "stream",
     "text": [
      "E_var_Y:  [4.17190023] , var_Y:  4.16339532912444\n"
     ]
    }
   ],
   "source": [
    "# componente de X na variancia de Y\n",
    "var_X = (coeficientes[1] ** 2) * (np.var(X))\n",
    "var_X\n",
    "\n",
    "# componente de Z na variancia de Y\n",
    "var_Z = (coeficientes[2] ** 2) * (np.var(Z))\n",
    "var_Z\n",
    "\n",
    "# componente de residuos na variancia de Y\n",
    "residuo = np.array(Y) - np.array(Y_est).T[0]\n",
    "var_residuos = np.var(residuo)\n",
    "\n",
    "print(\n",
    "    \"E_var_Y: \",\n",
    "    var_X + var_Z + var_residuos,\n",
    "    \", var_Y: \",\n",
    "    np.var(Y),\n",
    ")"
   ]
  },
  {
   "cell_type": "code",
   "execution_count": 12,
   "metadata": {},
   "outputs": [
    {
     "data": {
      "image/png": "[encoded data removed]",
      "text/plain": [
       "<Figure size 1000x600 with 1 Axes>"
      ]
     },
     "metadata": {},
     "output_type": "display_data"
    }
   ],
   "source": [
    "# Calcular os resíduos\n",
    "residuos = R - Y_est\n",
    "\n",
    "# Plotar gráfico de resíduos versus valores estimados\n",
    "plt.figure(figsize=(10, 6))\n",
    "plt.scatter(Y_est, residuos)\n",
    "plt.axhline(y=0, color=\"r\", linestyle=\"--\")\n",
    "plt.xlabel(\"Valores Estimados\")\n",
    "plt.ylabel(\"Resíduos\")\n",
    "plt.title(\"Análise de Resíduos\")\n",
    "plt.grid()\n",
    "plt.show()"
   ]
  },
  {
   "cell_type": "markdown",
   "metadata": {},
   "source": [
    "#### Coeficiente de Determinação (R2)"
   ]
  },
  {
   "cell_type": "code",
   "execution_count": 13,
   "metadata": {},
   "outputs": [
    {
     "name": "stdout",
     "output_type": "stream",
     "text": [
      "R2 = [0.81003511]\n"
     ]
    }
   ],
   "source": [
    "SQE = sum((Y_est - np.mean(Y_est)) ** 2)\n",
    "SQT = sum((Y - np.mean(Y)) ** 2)\n",
    "\n",
    "R2 = SQE / SQT\n",
    "\n",
    "print(f'R2 = {R2}')"
   ]
  },
  {
   "cell_type": "markdown",
   "metadata": {},
   "source": [
    "#### Utilizando a lib pronta"
   ]
  },
  {
   "cell_type": "code",
   "execution_count": 14,
   "metadata": {},
   "outputs": [
    {
     "name": "stdout",
     "output_type": "stream",
     "text": [
      "                            OLS Regression Results                            \n",
      "==============================================================================\n",
      "Dep. Variable:                      Y   R-squared:                       0.810\n",
      "Model:                            OLS   Adj. R-squared:                  0.806\n",
      "Method:                 Least Squares   F-statistic:                     206.8\n",
      "Date:                Thu, 19 Oct 2023   Prob (F-statistic):           1.04e-35\n",
      "Time:                        19:31:14   Log-Likelihood:                -130.16\n",
      "No. Observations:                 100   AIC:                             266.3\n",
      "Df Residuals:                      97   BIC:                             274.1\n",
      "Df Model:                           2                                         \n",
      "Covariance Type:            nonrobust                                         \n",
      "==============================================================================\n",
      "                 coef    std err          t      P>|t|      [0.025      0.975]\n",
      "------------------------------------------------------------------------------\n",
      "const          0.0393      0.245      0.160      0.873      -0.447       0.526\n",
      "X              2.6442      0.130     20.317      0.000       2.386       2.903\n",
      "Z              0.0262      0.067      0.394      0.695      -0.106       0.158\n",
      "==============================================================================\n",
      "Omnibus:                        0.501   Durbin-Watson:                   1.950\n",
      "Prob(Omnibus):                  0.778   Jarque-Bera (JB):                0.654\n",
      "Skew:                           0.110   Prob(JB):                        0.721\n",
      "Kurtosis:                       2.670   Cond. No.                         9.14\n",
      "==============================================================================\n",
      "\n",
      "Notes:\n",
      "[1] Standard Errors assume that the covariance matrix of the errors is correctly specified.\n"
     ]
    }
   ],
   "source": [
    "# Criando um DataFrame com as variáveis exógenas (X, Z) e a variável endógena (Y)\n",
    "df = pd.DataFrame(\n",
    "    {\"X\": X, \"Z\": Z, \"Y\": Y}\n",
    ")\n",
    "\n",
    "# Adicionando uma coluna de 1s (termo linear) ao DataFrame\n",
    "df = sm.add_constant(df)\n",
    "\n",
    "# Definindo as variáveis independentes (X) e a variável dependente (y)\n",
    "X_df = df.drop(\n",
    "    \"Y\", axis=1\n",
    ")  # Excluindo a coluna \"Y\" para obter as variáveis independentes (features)\n",
    "Y_df = df.Y  # Definindo a variável dependente (target ou alvo)\n",
    "\n",
    "# Criando o modelo de regressão linear\n",
    "modelo = sm.OLS(Y_df, X_df).fit()\n",
    "\n",
    "# Exibindo um resumo da análise de regressão\n",
    "print(modelo.summary())\n"
   ]
  },
  {
   "cell_type": "markdown",
   "metadata": {},
   "source": [
    "### Modelo Ajustado: Y = 0.0393 + 2.6442 . X + 0.0262 . Z"
   ]
  },
  {
   "cell_type": "markdown",
   "metadata": {},
   "source": [
    "#### Variância dos coeficientes estimados"
   ]
  },
  {
   "cell_type": "code",
   "execution_count": 15,
   "metadata": {},
   "outputs": [
    {
     "name": "stdout",
     "output_type": "stream",
     "text": [
      "[0.24268717 0.1288283  0.06596022]\n"
     ]
    }
   ],
   "source": [
    "var_resid = modelo.resid.var()\n",
    "dp_coeficientes = np.diag(var_resid * np.linalg.inv(X_df.T @ X_df)) ** 0.5\n",
    "\n",
    "print(dp_coeficientes)"
   ]
  },
  {
   "cell_type": "markdown",
   "metadata": {},
   "source": [
    "#### Limites inferior e superior do intervalo de confiança dos coeficientes"
   ]
  },
  {
   "cell_type": "code",
   "execution_count": 16,
   "metadata": {},
   "outputs": [
    {
     "name": "stdout",
     "output_type": "stream",
     "text": [
      "IC_inferior_alfa: [-0.43636871] , IC_superior_alfa: [0.51496499]\n",
      "IC_inferior_X: [2.3916861] , IC_superior_X: [2.89669304]\n",
      "IC_inferior_Z: [-0.10304008] , IC_superior_Z: [0.15552396]\n"
     ]
    }
   ],
   "source": [
    "IC_inferior = coeficientes[0] - 1.96 * dp_coeficientes[0]\n",
    "IC_superior = coeficientes[0] + 1.96 * dp_coeficientes[0]\n",
    "print(\"IC_inferior_alfa:\", IC_inferior, \", IC_superior_alfa:\", IC_superior)\n",
    "\n",
    "IC_inferior = coeficientes[1] - 1.96 * dp_coeficientes[1]\n",
    "IC_superior = coeficientes[1] + 1.96 * dp_coeficientes[1]\n",
    "print(\n",
    "    \"IC_inferior_X:\", IC_inferior, \", IC_superior_X:\", IC_superior\n",
    ")\n",
    "\n",
    "IC_inferior = coeficientes[2] - 1.96 * dp_coeficientes[2]\n",
    "IC_superior = coeficientes[2] + 1.96 * dp_coeficientes[2]\n",
    "print(\"IC_inferior_Z:\", IC_inferior, \", IC_superior_Z:\", IC_superior)"
   ]
  },
  {
   "cell_type": "markdown",
   "metadata": {},
   "source": [
    "#### Interpretação dos Resultados\n",
    "\n",
    "\n",
    "\n",
    "É importante frisar que os resultados encontrados pelo cálculo através da definição e entregues pela lib statsmodel foram identicos!\n",
    "Atraves das analises, tudo indica que a variável Z possui pouca influencia sobre o target, a variavel X tem uma  influencia bem maior, dependendo do modelo a variavel Z ate poderia ser desconsiderada. Ainda mais que Z valendo 0 é uma possibilidade dentro da sua distribuição de probabilidade. O mesmo efeito surge no intercepto.\n",
    "\n",
    "Logo a hipotese que Z e intercepto sejam igual a zero não pode ser rejeitada"
   ]
  },
  {
   "cell_type": "markdown",
   "metadata": {},
   "source": [
    "_____"
   ]
  },
  {
   "cell_type": "markdown",
   "metadata": {},
   "source": [
    "### 3 - Comparação de Modelos de Regressão\n",
    "\n",
    "\n",
    "No conjunto de dados do Exercício 2, ajuste um modelo de regressão linear simples (Y ~ X) e um modelo de regressão linear múltipla (Y ~ X + Z). Compare os modelos usando o coeficiente de determinação ajustado (R² ajustado) e determine qual modelo é mais apropriado.\n"
   ]
  },
  {
   "cell_type": "markdown",
   "metadata": {},
   "source": [
    "##### **O cálculo dos R² já foram calculados anteriormente, então farei de maneira mais resumida dessa vez...**"
   ]
  },
  {
   "cell_type": "markdown",
   "metadata": {},
   "source": [
    "#### Modelo Regressão Linear Simples (Y ~ X)"
   ]
  },
  {
   "cell_type": "code",
   "execution_count": 17,
   "metadata": {},
   "outputs": [
    {
     "name": "stdout",
     "output_type": "stream",
     "text": [
      "Coeficiente de Determinação (R²): 0.8097313978857213\n"
     ]
    }
   ],
   "source": [
    "media_X = np.mean(X)\n",
    "media_Y = np.mean(Y)\n",
    "\n",
    "desvios_produto = np.sum((X - media_X) * (Y - media_Y))\n",
    "desvios_quadrados_X = np.sum((X - media_X) ** 2)\n",
    "\n",
    "desvios_quadrados_Y = np.sum((Y - media_Y) ** 2)\n",
    "r_2 = desvios_produto ** 2 / (desvios_quadrados_X * desvios_quadrados_Y)\n",
    "\n",
    "print(\"Coeficiente de Determinação (R²):\", r_2)"
   ]
  },
  {
   "cell_type": "markdown",
   "metadata": {},
   "source": [
    "#### Modelo Regressão Linear Múltipla (Y ~ X + Z)"
   ]
  },
  {
   "cell_type": "code",
   "execution_count": 18,
   "metadata": {},
   "outputs": [
    {
     "name": "stdout",
     "output_type": "stream",
     "text": [
      "Coeficiente de Determinação (R²): [0.81003511]\n"
     ]
    }
   ],
   "source": [
    "XZ = np.array([X, Z]).T\n",
    "XZ = np.column_stack((np.ones(len(XZ)), XZ))\n",
    "\n",
    "\n",
    "R = np.array(Y).reshape(-1, 1)\n",
    "\n",
    "coeficientes = np.linalg.inv(XZ.T @ XZ) @ XZ.T @ R\n",
    "\n",
    "Y_est = XZ @ coeficientes\n",
    "\n",
    "SQE = sum((Y_est - np.mean(Y_est)) ** 2)\n",
    "SQT = sum((Y - np.mean(Y)) ** 2)\n",
    "\n",
    "R2 = SQE / SQT\n",
    "\n",
    "print(f'Coeficiente de Determinação (R²): {R2}')"
   ]
  },
  {
   "cell_type": "code",
   "execution_count": 19,
   "metadata": {},
   "outputs": [
    {
     "data": {
      "text/plain": [
       "array([0.00030371])"
      ]
     },
     "execution_count": 19,
     "metadata": {},
     "output_type": "execute_result"
    }
   ],
   "source": [
    "R2 - r_2"
   ]
  },
  {
   "cell_type": "markdown",
   "metadata": {},
   "source": [
    "#### Interpretação dos Resultados\n",
    "\n",
    "O coeficiente de determinação dos dois modelos estão muito próximos, entregando uma difereça de 0.00030371, quase irrelevante. Numericamente o mais adequado seria o de Regressão Linear Múltipla, porém na prática, o simples é tão bom quanto, talvez compense utiliza-lo dependendo da situação, por conta da sua menor complexidade."
   ]
  },
  {
   "cell_type": "markdown",
   "metadata": {},
   "source": [
    "____"
   ]
  },
  {
   "cell_type": "markdown",
   "metadata": {},
   "source": [
    "#### 4 - Predições com um Modelo de Regressão\n",
    "\n",
    "Suponha que você tenha ajustado um modelo de regressão linear simples para prever a nota dos alunos (Y) com base no número de horas de estudo (X). Use o modelo para fazer previsões: qual seria a nota prevista de um aluno que estudou 5 horas por dia? E se um aluno estudou 8 horas por dia?"
   ]
  },
  {
   "cell_type": "markdown",
   "metadata": {},
   "source": [
    "##### **Esses cálculos do modelo já foram mostrados anteriormente, então farei de maneira mais resumida dessa vez...**"
   ]
  },
  {
   "cell_type": "code",
   "execution_count": 20,
   "metadata": {},
   "outputs": [
    {
     "name": "stdout",
     "output_type": "stream",
     "text": [
      "Nota estimada para 5 horas: 13.311449014744413\n"
     ]
    }
   ],
   "source": [
    "X_sm = sm.add_constant(X)\n",
    "modelo = sm.OLS(Y, X_sm).fit()\n",
    "previsao_df = pd.DataFrame({'const': 1, 'X': [5, 8]})\n",
    "previsoes = modelo.predict(previsao_df)\n",
    "print(\"Nota estimada para 5 horas:\", previsoes[0])\n"
   ]
  }
 ],
 "metadata": {
  "colab": {
   "provenance": []
  },
  "kernelspec": {
   "display_name": "Python 3",
   "name": "python3"
  },
  "language_info": {
   "codemirror_mode": {
    "name": "ipython",
    "version": 3
   },
   "file_extension": ".py",
   "mimetype": "text/x-python",
   "name": "python",
   "nbconvert_exporter": "python",
   "pygments_lexer": "ipython3",
   "version": "3.11.1"
  }
 },
 "nbformat": 4,
 "nbformat_minor": 0
}
