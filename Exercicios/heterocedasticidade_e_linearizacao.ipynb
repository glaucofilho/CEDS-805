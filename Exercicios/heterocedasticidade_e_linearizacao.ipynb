{
 "cells": [
  {
   "cell_type": "markdown",
   "metadata": {
    "id": "QICtAfYMu3r0"
   },
   "source": [
    "# Exercícios Análise de Regressão"
   ]
  },
  {
   "cell_type": "markdown",
   "metadata": {},
   "source": [
    "-----\n",
    "\n",
    "## Heterocedasticidade e Linearização\n",
    "\n",
    "-----"
   ]
  },
  {
   "cell_type": "markdown",
   "metadata": {},
   "source": [
    "### 1 - Identificando Heterocedasticidade\n",
    "\n",
    "I. Criar um conjunto de dados hipotético com uma variável independente (X) \n",
    "\n",
    "II. Use X para criar uma série exponencial de Y (Y = aebX)\n",
    "\n",
    "III. Ajuste um modelo de regressão linear para prever Y com base em X.\t\n",
    "\n",
    "IV. Plote o gráfico de dispersão dos resíduos do modelo (resíduos vs. valores ajustados).\n",
    "\n",
    "V. Visualize os resíduos em relação a X. Observe qualquer padrão nas variações dos resíduos. Isso sugere a presença de heterocedasticidade?\n",
    "\n"
   ]
  },
  {
   "cell_type": "code",
   "execution_count": 4,
   "metadata": {},
   "outputs": [],
   "source": [
    "# Importe as bibliotecas necessárias\n",
    "import numpy as np\n",
    "import statsmodels.api as sm\n",
    "import matplotlib.pyplot as plt\n",
    "import pandas as pd"
   ]
  },
  {
   "cell_type": "markdown",
   "metadata": {},
   "source": [
    "#### I. Criar um conjunto de dados hipotético com uma variável independente (X) "
   ]
  },
  {
   "cell_type": "code",
   "execution_count": 20,
   "metadata": {},
   "outputs": [
    {
     "name": "stdout",
     "output_type": "stream",
     "text": [
      "       gastos       renda\n",
      "0   16.689197  449.144623\n",
      "1    6.600374  178.345366\n",
      "2    9.526663  256.356393\n",
      "3   13.511918  365.223180\n",
      "4    5.251905  141.678121\n",
      "..        ...         ...\n",
      "95   5.896881  158.269969\n",
      "96  21.962838  592.096026\n",
      "97   3.861052  103.278582\n",
      "98   9.925934  268.606170\n",
      "99  17.585201  473.567327\n",
      "\n",
      "[100 rows x 2 columns]\n",
      "      gastos     renda\n",
      "0   2.814762  6.107345\n",
      "1   1.887126  5.183722\n",
      "2   2.254095  5.546569\n",
      "3   2.603572  5.900509\n",
      "4   1.658591  4.953558\n",
      "..       ...       ...\n",
      "95  1.774424  5.064302\n",
      "96  3.089352  6.383669\n",
      "97  1.350940  4.637430\n",
      "98  2.295151  5.593246\n",
      "99  2.867058  6.160294\n",
      "\n",
      "[100 rows x 2 columns]\n"
     ]
    }
   ],
   "source": [
    "# Criando um conjunto de dados Fake\n",
    "np.random.seed(11102023)\n",
    "X = 25 * np.random.rand(100, 1)  # Variável independente X\n",
    "Y = 27 * X + np.random.randn(100, 1)  # Variável dependente Y com ruído\n",
    "X = [x[0] for x in X] # Converte em uma lista simples\n",
    "Y = [y[0] for y in Y] # Converte em uma lista simples\n",
    "\n",
    "data = {\n",
    "    'gastos': X,\n",
    "    'renda': Y\n",
    "}\n",
    "\n",
    "\n",
    "# Converter para um DataFrame do pandas\n",
    "df = pd.DataFrame(data)\n",
    "print(df)\n",
    "\n",
    "# Converter para um DataFrame do pandas utilizando log\n",
    "df_log = np.log(pd.DataFrame(data))\n",
    "print(df_log)\n"
   ]
  },
  {
   "cell_type": "code",
   "execution_count": 21,
   "metadata": {},
   "outputs": [
    {
     "name": "stdout",
     "output_type": "stream",
     "text": [
      "                            OLS Regression Results                            \n",
      "==============================================================================\n",
      "Dep. Variable:                 gastos   R-squared:                       0.986\n",
      "Model:                            OLS   Adj. R-squared:                  0.985\n",
      "Method:                 Least Squares   F-statistic:                     6677.\n",
      "Date:                Mon, 16 Oct 2023   Prob (F-statistic):           5.82e-92\n",
      "Time:                        19:49:29   Log-Likelihood:                 54.925\n",
      "No. Observations:                 100   AIC:                            -105.9\n",
      "Df Residuals:                      98   BIC:                            -100.6\n",
      "Df Model:                           1                                         \n",
      "Covariance Type:            nonrobust                                         \n",
      "==============================================================================\n",
      "                 coef    std err          t      P>|t|      [0.025      0.975]\n",
      "------------------------------------------------------------------------------\n",
      "const         -3.7014      0.072    -51.277      0.000      -3.845      -3.558\n",
      "renda          1.0721      0.013     81.711      0.000       1.046       1.098\n",
      "==============================================================================\n",
      "Omnibus:                      166.123   Durbin-Watson:                   2.043\n",
      "Prob(Omnibus):                  0.000   Jarque-Bera (JB):            12514.997\n",
      "Skew:                          -6.189   Prob(JB):                         0.00\n",
      "Kurtosis:                      56.389   Cond. No.                         29.0\n",
      "==============================================================================\n",
      "\n",
      "Notes:\n",
      "[1] Standard Errors assume that the covariance matrix of the errors is correctly specified.\n"
     ]
    },
    {
     "data": {
      "image/png": "[encoded data removed]",
      "text/plain": [
       "<Figure size 640x480 with 1 Axes>"
      ]
     },
     "metadata": {},
     "output_type": "display_data"
    }
   ],
   "source": [
    "# Importar a biblioteca statsmodels.api como sm para realizar análises estatísticas\n",
    "import statsmodels.api as sm\n",
    "\n",
    "#Importar biblioteca matplotlib para plotagem de dados\n",
    "import matplotlib.pyplot as plt\n",
    "\n",
    "# Definir a variável alvo (target) como 'gastos' do DataFrame df\n",
    "target = df_log.gastos\n",
    "\n",
    "# Definir as características (features) como todas as colunas do DataFrame df, exceto 'gastos'\n",
    "features = df_log.drop(\"gastos\", axis=1)\n",
    "\n",
    "# Adicionar uma constante (intercept) às características. Isso é necessário para a regressão linear.\n",
    "features = sm.add_constant(features)\n",
    "\n",
    "# Ajustar um modelo de regressão linear ordinária (OLS) com a variável alvo e as características\n",
    "fit = sm.OLS(target, features).fit()\n",
    "\n",
    "# Imprimir um resumo estatístico do modelo ajustado\n",
    "print(fit.summary())\n",
    "\n",
    "plt.scatter(df_log.renda, fit.resid ** 2)\n",
    "plt.ylabel('Resíduos^2')\n",
    "plt.xlabel('Renda')\n",
    "plt.show()\n",
    "plt.show()"
   ]
  }
 ],
 "metadata": {
  "colab": {
   "provenance": []
  },
  "kernelspec": {
   "display_name": "Python 3",
   "name": "python3"
  },
  "language_info": {
   "codemirror_mode": {
    "name": "ipython",
    "version": 3
   },
   "file_extension": ".py",
   "mimetype": "text/x-python",
   "name": "python",
   "nbconvert_exporter": "python",
   "pygments_lexer": "ipython3",
   "version": "3.11.1"
  }
 },
 "nbformat": 4,
 "nbformat_minor": 0
}
