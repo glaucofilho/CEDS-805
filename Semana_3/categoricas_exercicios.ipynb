{
  "nbformat": 4,
  "nbformat_minor": 0,
  "metadata": {
    "colab": {
      "provenance": []
    },
    "kernelspec": {
      "name": "python3",
      "display_name": "Python 3"
    },
    "language_info": {
      "name": "python"
    }
  },
  "cells": [
    {
      "cell_type": "markdown",
      "source": [
        "**Exercicio: Previsão de consumo de combustivel**\n",
        "\n",
        "temos um conjunto de dados relacionados à estimativa de consumo de combustível de veículos pela Environmental Protection Agency (EPA) e outras variáveis relacionadas a esses veículos. Queremos analisar se a estimativa da EPA fornece todas as informações necessárias para comparar a eficiência de combustível relativa dos diferentes modelos de carros.\n",
        "\n",
        "realizar uma análise de regressão linear múltipla para determinar quais variáveis são significativas para prever o consumo de combustível. Considere miles_per_gallon como a variável dependente (y) e as outras variáveis como variáveis independentes (X).\n",
        "\n",
        "as variáveis são as seguintes:\n",
        "\n",
        "- y: milhas por galão com base nos testes rodoviários.\n",
        "- W: peso do veículo em libras.\n",
        "- SA: variável dummy igual a 0 para transmissão manual e 1.0 para transmissão automática.\n",
        "- GD: variável dummy igual a 0 para gasolina e 1.0 para diesel.\n",
        "- EPA: estimativa de consumo de combustível pela EPA.\n",
        "\n",
        "Questão: A estimativa da EPA é suficiente?\n",
        "\n",
        "dados em consumo_veiculos.parquet"
      ],
      "metadata": {
        "id": "ja9QF-WIYB63"
      }
    },
    {
      "cell_type": "code",
      "source": [
        "import pandas as pd\n",
        "import statsmodels.api as sm\n",
        "dados = pd.read_parquet(\"consumo_veiculo.parquet\")\n",
        "\n",
        "X = dados.drop(\"y\", axis = 1)\n",
        "#X = dados[\"EPA\"]\n",
        "X = sm.add_constant(X)\n",
        "y = dados[\"y\"]\n",
        "\n",
        "model = sm.OLS(y,X).fit()\n",
        "\n",
        "print(dados.head())\n",
        "\n",
        "print(model.summary())"
      ],
      "metadata": {
        "colab": {
          "base_uri": "https://localhost:8080/",
          "height": 390
        },
        "id": "0VioSMxzSkxs",
        "outputId": "5f247378-0700-4eac-f15f-f6720eb1aab9"
      },
      "execution_count": null,
      "outputs": [
        {
          "output_type": "error",
          "ename": "FileNotFoundError",
          "evalue": "ignored",
          "traceback": [
            "\u001b[0;31m---------------------------------------------------------------------------\u001b[0m",
            "\u001b[0;31mFileNotFoundError\u001b[0m                         Traceback (most recent call last)",
            "\u001b[0;32m<ipython-input-1-71932913ec24>\u001b[0m in \u001b[0;36m<cell line: 3>\u001b[0;34m()\u001b[0m\n\u001b[1;32m      1\u001b[0m \u001b[0;32mimport\u001b[0m \u001b[0mpandas\u001b[0m \u001b[0;32mas\u001b[0m \u001b[0mpd\u001b[0m\u001b[0;34m\u001b[0m\u001b[0;34m\u001b[0m\u001b[0m\n\u001b[1;32m      2\u001b[0m \u001b[0;32mimport\u001b[0m \u001b[0mstatsmodels\u001b[0m\u001b[0;34m.\u001b[0m\u001b[0mapi\u001b[0m \u001b[0;32mas\u001b[0m \u001b[0msm\u001b[0m\u001b[0;34m\u001b[0m\u001b[0;34m\u001b[0m\u001b[0m\n\u001b[0;32m----> 3\u001b[0;31m \u001b[0mdados\u001b[0m \u001b[0;34m=\u001b[0m \u001b[0mpd\u001b[0m\u001b[0;34m.\u001b[0m\u001b[0mread_parquet\u001b[0m\u001b[0;34m(\u001b[0m\u001b[0;34m\"consumo_veiculo.parquet\"\u001b[0m\u001b[0;34m)\u001b[0m\u001b[0;34m\u001b[0m\u001b[0;34m\u001b[0m\u001b[0m\n\u001b[0m\u001b[1;32m      4\u001b[0m \u001b[0;34m\u001b[0m\u001b[0m\n\u001b[1;32m      5\u001b[0m \u001b[0mX\u001b[0m \u001b[0;34m=\u001b[0m \u001b[0mdados\u001b[0m\u001b[0;34m.\u001b[0m\u001b[0mdrop\u001b[0m\u001b[0;34m(\u001b[0m\u001b[0;34m\"y\"\u001b[0m\u001b[0;34m,\u001b[0m \u001b[0maxis\u001b[0m \u001b[0;34m=\u001b[0m \u001b[0;36m1\u001b[0m\u001b[0;34m)\u001b[0m\u001b[0;34m\u001b[0m\u001b[0;34m\u001b[0m\u001b[0m\n",
            "\u001b[0;32m/usr/local/lib/python3.10/dist-packages/pandas/io/parquet.py\u001b[0m in \u001b[0;36mread_parquet\u001b[0;34m(path, engine, columns, storage_options, use_nullable_dtypes, **kwargs)\u001b[0m\n\u001b[1;32m    501\u001b[0m     \u001b[0mimpl\u001b[0m \u001b[0;34m=\u001b[0m \u001b[0mget_engine\u001b[0m\u001b[0;34m(\u001b[0m\u001b[0mengine\u001b[0m\u001b[0;34m)\u001b[0m\u001b[0;34m\u001b[0m\u001b[0;34m\u001b[0m\u001b[0m\n\u001b[1;32m    502\u001b[0m \u001b[0;34m\u001b[0m\u001b[0m\n\u001b[0;32m--> 503\u001b[0;31m     return impl.read(\n\u001b[0m\u001b[1;32m    504\u001b[0m         \u001b[0mpath\u001b[0m\u001b[0;34m,\u001b[0m\u001b[0;34m\u001b[0m\u001b[0;34m\u001b[0m\u001b[0m\n\u001b[1;32m    505\u001b[0m         \u001b[0mcolumns\u001b[0m\u001b[0;34m=\u001b[0m\u001b[0mcolumns\u001b[0m\u001b[0;34m,\u001b[0m\u001b[0;34m\u001b[0m\u001b[0;34m\u001b[0m\u001b[0m\n",
            "\u001b[0;32m/usr/local/lib/python3.10/dist-packages/pandas/io/parquet.py\u001b[0m in \u001b[0;36mread\u001b[0;34m(self, path, columns, use_nullable_dtypes, storage_options, **kwargs)\u001b[0m\n\u001b[1;32m    242\u001b[0m             \u001b[0mto_pandas_kwargs\u001b[0m\u001b[0;34m[\u001b[0m\u001b[0;34m\"split_blocks\"\u001b[0m\u001b[0;34m]\u001b[0m \u001b[0;34m=\u001b[0m \u001b[0;32mTrue\u001b[0m  \u001b[0;31m# type: ignore[assignment]\u001b[0m\u001b[0;34m\u001b[0m\u001b[0;34m\u001b[0m\u001b[0m\n\u001b[1;32m    243\u001b[0m \u001b[0;34m\u001b[0m\u001b[0m\n\u001b[0;32m--> 244\u001b[0;31m         path_or_handle, handles, kwargs[\"filesystem\"] = _get_path_or_handle(\n\u001b[0m\u001b[1;32m    245\u001b[0m             \u001b[0mpath\u001b[0m\u001b[0;34m,\u001b[0m\u001b[0;34m\u001b[0m\u001b[0;34m\u001b[0m\u001b[0m\n\u001b[1;32m    246\u001b[0m             \u001b[0mkwargs\u001b[0m\u001b[0;34m.\u001b[0m\u001b[0mpop\u001b[0m\u001b[0;34m(\u001b[0m\u001b[0;34m\"filesystem\"\u001b[0m\u001b[0;34m,\u001b[0m \u001b[0;32mNone\u001b[0m\u001b[0;34m)\u001b[0m\u001b[0;34m,\u001b[0m\u001b[0;34m\u001b[0m\u001b[0;34m\u001b[0m\u001b[0m\n",
            "\u001b[0;32m/usr/local/lib/python3.10/dist-packages/pandas/io/parquet.py\u001b[0m in \u001b[0;36m_get_path_or_handle\u001b[0;34m(path, fs, storage_options, mode, is_dir)\u001b[0m\n\u001b[1;32m    100\u001b[0m         \u001b[0;31m# fsspec resources can also point to directories\u001b[0m\u001b[0;34m\u001b[0m\u001b[0;34m\u001b[0m\u001b[0m\n\u001b[1;32m    101\u001b[0m         \u001b[0;31m# this branch is used for example when reading from non-fsspec URLs\u001b[0m\u001b[0;34m\u001b[0m\u001b[0;34m\u001b[0m\u001b[0m\n\u001b[0;32m--> 102\u001b[0;31m         handles = get_handle(\n\u001b[0m\u001b[1;32m    103\u001b[0m             \u001b[0mpath_or_handle\u001b[0m\u001b[0;34m,\u001b[0m \u001b[0mmode\u001b[0m\u001b[0;34m,\u001b[0m \u001b[0mis_text\u001b[0m\u001b[0;34m=\u001b[0m\u001b[0;32mFalse\u001b[0m\u001b[0;34m,\u001b[0m \u001b[0mstorage_options\u001b[0m\u001b[0;34m=\u001b[0m\u001b[0mstorage_options\u001b[0m\u001b[0;34m\u001b[0m\u001b[0;34m\u001b[0m\u001b[0m\n\u001b[1;32m    104\u001b[0m         )\n",
            "\u001b[0;32m/usr/local/lib/python3.10/dist-packages/pandas/io/common.py\u001b[0m in \u001b[0;36mget_handle\u001b[0;34m(path_or_buf, mode, encoding, compression, memory_map, is_text, errors, storage_options)\u001b[0m\n\u001b[1;32m    863\u001b[0m         \u001b[0;32melse\u001b[0m\u001b[0;34m:\u001b[0m\u001b[0;34m\u001b[0m\u001b[0;34m\u001b[0m\u001b[0m\n\u001b[1;32m    864\u001b[0m             \u001b[0;31m# Binary mode\u001b[0m\u001b[0;34m\u001b[0m\u001b[0;34m\u001b[0m\u001b[0m\n\u001b[0;32m--> 865\u001b[0;31m             \u001b[0mhandle\u001b[0m \u001b[0;34m=\u001b[0m \u001b[0mopen\u001b[0m\u001b[0;34m(\u001b[0m\u001b[0mhandle\u001b[0m\u001b[0;34m,\u001b[0m \u001b[0mioargs\u001b[0m\u001b[0;34m.\u001b[0m\u001b[0mmode\u001b[0m\u001b[0;34m)\u001b[0m\u001b[0;34m\u001b[0m\u001b[0;34m\u001b[0m\u001b[0m\n\u001b[0m\u001b[1;32m    866\u001b[0m         \u001b[0mhandles\u001b[0m\u001b[0;34m.\u001b[0m\u001b[0mappend\u001b[0m\u001b[0;34m(\u001b[0m\u001b[0mhandle\u001b[0m\u001b[0;34m)\u001b[0m\u001b[0;34m\u001b[0m\u001b[0;34m\u001b[0m\u001b[0m\n\u001b[1;32m    867\u001b[0m \u001b[0;34m\u001b[0m\u001b[0m\n",
            "\u001b[0;31mFileNotFoundError\u001b[0m: [Errno 2] No such file or directory: 'consumo_veiculo.parquet'"
          ]
        }
      ]
    },
    {
      "cell_type": "markdown",
      "source": [
        "Se gasolina e manual\n",
        "  - 21.4310 + 0.4309 * EPA - 0.0020 * W\n",
        "\n",
        "Se gasolina e automatico\n",
        "  - (21.4310 - 2.813) + 0.4309 * EPA - 0.0020 * W\n",
        "\n",
        "Se diesel e manual\n",
        "  - (21.4310 + 3.2662) + 0.4309 * EPA - 0.0020 * W\n",
        "  - (21.4310 + 3.2662 x 1 - 2.813 x 0) + 0.4309 * EPA - 0.0020 * W\n",
        "\n",
        "Se diesel e automatico\n",
        "  - (21.4310 + 3.2662 - 2.813) + 0.4309 * EPA - 0.0020 * W\n",
        "  - (21.4310 + 3.2662 x 1 - 2.813 x 1) + 0.4309 * EPA - 0.0020 * W\n",
        "\n",
        "milhas por galão = 21.4310 + 3.2662 * D_GD - 2.813 * D_SA + 0.4309 * EPA - 0.0020 * W"
      ],
      "metadata": {
        "id": "YXXEEbqgILAh"
      }
    },
    {
      "cell_type": "code",
      "source": [
        "from google.colab import drive\n",
        "drive.mount('/content/drive')"
      ],
      "metadata": {
        "id": "mUOqqLoMHcwz"
      },
      "execution_count": null,
      "outputs": []
    },
    {
      "cell_type": "markdown",
      "source": [
        "**Exercício Cancer de Mama**\n",
        "\n",
        "Você está trabalhando em um projeto de diagnóstico de câncer de mama e deseja desenvolver um modelo de regressão logística para prever a presença ou ausência de câncer de mama com base em três características: \"mean texture\" (textura média), \"mean smoothness\" (suavidade média) e \"mean concave points\" (pontos côncavos médios). Utilize o conjunto de dados do câncer de mama fornecido pelo scikit-learn."
      ],
      "metadata": {
        "id": "HtWCK07RSj-2"
      }
    },
    {
      "cell_type": "code",
      "execution_count": null,
      "metadata": {
        "id": "0sf-lw3-Se2h"
      },
      "outputs": [],
      "source": [
        "from sklearn.datasets import load_breast_cancer\n",
        "\n",
        "data = load_breast_cancer()\n",
        "y = data[\"target\"]\n",
        "# X = data.drop(\"target\", axis = 1)\n",
        "\n",
        "X = pd.DataFrame(data[\"data\"])\n",
        "X.columns = data.feature_names\n",
        "\n"
      ]
    },
    {
      "cell_type": "code",
      "source": [
        "X = X[[\"mean texture\",\"mean smoothness\",\"mean concave points\"]]\n",
        "X = sm.add_constant(X)\n",
        "\n",
        "modelo = sm.Logit(y, X).fit()\n",
        "#modelo = sm.OLS(y, X).fit()\n",
        "print(modelo.summary())"
      ],
      "metadata": {
        "colab": {
          "base_uri": "https://localhost:8080/"
        },
        "id": "gtFE7V3knpoC",
        "outputId": "1d101284-84cc-4792-9f79-e9c0698f4779"
      },
      "execution_count": null,
      "outputs": [
        {
          "output_type": "stream",
          "name": "stdout",
          "text": [
            "Optimization terminated successfully.\n",
            "         Current function value: 0.174398\n",
            "         Iterations 9\n",
            "                           Logit Regression Results                           \n",
            "==============================================================================\n",
            "Dep. Variable:                      y   No. Observations:                  569\n",
            "Model:                          Logit   Df Residuals:                      565\n",
            "Method:                           MLE   Df Model:                            3\n",
            "Date:                Mon, 02 Oct 2023   Pseudo R-squ.:                  0.7359\n",
            "Time:                        23:07:49   Log-Likelihood:                -99.232\n",
            "converged:                       True   LL-Null:                       -375.72\n",
            "Covariance Type:            nonrobust   LLR p-value:                1.574e-119\n",
            "=======================================================================================\n",
            "                          coef    std err          z      P>|z|      [0.025      0.975]\n",
            "---------------------------------------------------------------------------------------\n",
            "const                   9.1890      2.113      4.348      0.000       5.047      13.331\n",
            "mean texture           -0.3021      0.051     -5.922      0.000      -0.402      -0.202\n",
            "mean smoothness        38.9172     18.146      2.145      0.032       3.351      74.484\n",
            "mean concave points  -131.1442     13.363     -9.814      0.000    -157.335    -104.954\n",
            "=======================================================================================\n"
          ]
        }
      ]
    },
    {
      "cell_type": "code",
      "source": [
        "P(Y = diganostico de cancer de mama) = 1 + (1+ exp(-(9.18  - 0.3 texture + 38.9 smoothness +- 131.1 concave)))"
      ],
      "metadata": {
        "id": "7-oA_haqnrGM"
      },
      "execution_count": null,
      "outputs": []
    }
  ]
}