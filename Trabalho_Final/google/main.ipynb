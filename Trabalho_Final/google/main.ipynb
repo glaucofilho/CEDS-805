{
 "cells": [
  {
   "cell_type": "markdown",
   "metadata": {},
   "source": [
    "# Relatório de Regressão Linear\n",
    "\n",
    "-----\n",
    "\n",
    "### **Título:** Análise financeira do Google\n",
    "### **Autor:** Glauco Lauria Marques Filho\n",
    "\n",
    "-----\n",
    "\n",
    "\n",
    "### Resumo \n",
    "\n",
    "Este relatório descreve uma análise de regressão linear realizada para prever [Inserir Variável Dependente] com base em [Inserir Variáveis Independentes]. O estudo inclui a coleta e análise de dados, a criação do modelo de regressão, bem como a avaliação de sua precisão.\n",
    "\n",
    "\n",
    "### Introdução (O que)\n",
    "\n",
    "A análise de regressão linear é uma técnica estatística que visa entender as relações entre uma variável dependente e uma ou mais variáveis independentes. Neste estudo, o objetivo é prever [Inserir Variável Dependente] com base em [Inserir Variáveis Independentes].\n",
    "\n",
    "\n",
    "### Motivação (Por que)\n",
    "\n",
    "A análise de regressão linear é realizada para compreender as relações entre a variável dependente, [Inserir Variável Dependente], e as variáveis independentes, [Inserir Variáveis Independentes]. Isso permite prever com precisão [Inserir Variável Dependente] e, assim, …\n",
    "\n",
    "\n",
    "\n",
    "### Metodologia (Como)"
   ]
  },
  {
   "cell_type": "code",
   "execution_count": null,
   "metadata": {},
   "outputs": [],
   "source": [
    "# Importando as bibliotecas necessárias\n",
    "import numpy as np\n",
    "import statsmodels.api as sm\n",
    "import matplotlib.pyplot as plt\n",
    "import pandas as pd\n"
   ]
  },
  {
   "cell_type": "markdown",
   "metadata": {},
   "source": [
    "#### 1. Coleta de Dados\n",
    "##### Os dados foram coletados pelo professor Elton, eles são referentes a indicadores de desempenho financeiro da empresa Google, sendo 4 relatórios por ano, de 2014 até 2023, esse último apenas com 3 relatórios.\n"
   ]
  },
  {
   "cell_type": "code",
   "execution_count": 1,
   "metadata": {},
   "outputs": [
    {
     "ename": "NameError",
     "evalue": "name 'pd' is not defined",
     "output_type": "error",
     "traceback": [
      "\u001b[1;31m---------------------------------------------------------------------------\u001b[0m",
      "\u001b[1;31mNameError\u001b[0m                                 Traceback (most recent call last)",
      "\u001b[1;32mc:\\GitHub\\CEDS-805\\Trabalho_Final\\google\\main.ipynb Cell 4\u001b[0m line \u001b[0;36m1\n\u001b[1;32m----> <a href='vscode-notebook-cell:/c%3A/GitHub/CEDS-805/Trabalho_Final/google/main.ipynb#W4sZmlsZQ%3D%3D?line=0'>1</a>\u001b[0m df \u001b[39m=\u001b[39m pd\u001b[39m.\u001b[39mread_parquet(\u001b[39m'\u001b[39m\u001b[39mfund_goog.parquet\u001b[39m\u001b[39m'\u001b[39m)\n\u001b[0;32m      <a href='vscode-notebook-cell:/c%3A/GitHub/CEDS-805/Trabalho_Final/google/main.ipynb#W4sZmlsZQ%3D%3D?line=1'>2</a>\u001b[0m df\u001b[39m.\u001b[39mreset_index(inplace\u001b[39m=\u001b[39m\u001b[39mTrue\u001b[39;00m)\n\u001b[0;32m      <a href='vscode-notebook-cell:/c%3A/GitHub/CEDS-805/Trabalho_Final/google/main.ipynb#W4sZmlsZQ%3D%3D?line=2'>3</a>\u001b[0m df[\u001b[39m'\u001b[39m\u001b[39mDate\u001b[39m\u001b[39m'\u001b[39m] \u001b[39m=\u001b[39m pd\u001b[39m.\u001b[39mto_datetime(df[\u001b[39m'\u001b[39m\u001b[39mDate\u001b[39m\u001b[39m'\u001b[39m])\n",
      "\u001b[1;31mNameError\u001b[0m: name 'pd' is not defined"
     ]
    }
   ],
   "source": [
    "df = pd.read_parquet('fund_goog.parquet')\n",
    "df.reset_index(inplace=True)\n",
    "df['Date'] = pd.to_datetime(df['Date'])\n",
    "df = df.sort_values(by='Date', ascending=True)\n",
    "df.head()"
   ]
  },
  {
   "cell_type": "markdown",
   "metadata": {},
   "source": [
    "### Os dados são compostos por:\n",
    "\n",
    "- Adj. Close: Preço de fechamento das ações do Google;\n",
    "- EBITDA: Lucro operacional antes de juros, impostos, depreciação e amortização;\n",
    "- Total Debt: Dívida total;\n",
    "- Free Cash Flow: Fluxo de caixa livre;\n",
    "- Gross Profit Margin: Margem de lucro bruto, indicando a rentabilidade;\n",
    "- Operating Margin: Margem operacional, representando a lucratividade das operações;\n",
    "- Net Profit Margin: Margem de lucro líquido, indicando a rentabilidade após despesas;\n",
    "- Return on Equity: Taxa de retorno sobre o patrimônio líquido;\n",
    "- Return on Assets: Taxa de retorno sobre os ativos;\n",
    "- Free Cash Flow to Net Income: Relação entre fluxo de caixa livre e lucro líquido;\n",
    "- Current Ratio: Índice de liquidez corrente;\n",
    "- Liabilities to Equity Ratio: Proporção das obrigações em relação ao patrimônio;\n",
    "- Debt Ratio: Proporção da dívida em relação aos ativos;\n",
    "- Earnings Per Share, Basic: Lucro disponível por ação;\n",
    "- Sales Per Share: Receita por ação;\n",
    "- Equity Per Share: Patrimônio líquido por ação."
   ]
  }
 ],
 "metadata": {
  "kernelspec": {
   "display_name": "venv",
   "language": "python",
   "name": "python3"
  },
  "language_info": {
   "codemirror_mode": {
    "name": "ipython",
    "version": 3
   },
   "file_extension": ".py",
   "mimetype": "text/x-python",
   "name": "python",
   "nbconvert_exporter": "python",
   "pygments_lexer": "ipython3",
   "version": "3.11.1"
  }
 },
 "nbformat": 4,
 "nbformat_minor": 2
}
