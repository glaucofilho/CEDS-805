{
  "cells": [
    {
      "cell_type": "markdown",
      "metadata": {
        "id": "AUjyFyzCkDxr"
      },
      "source": [
        "Exemplo: Gastos de Consumo e Renda para 20 Famílias"
      ]
    },
    {
      "cell_type": "code",
      "execution_count": 1,
      "metadata": {
        "colab": {
          "base_uri": "https://localhost:8080/"
        },
        "id": "lMjWeuOrkAqQ",
        "outputId": "b81b4b49-78b2-4ac8-ebdf-2836dc77d196"
      },
      "outputs": [
        {
          "name": "stdout",
          "output_type": "stream",
          "text": [
            "      gastos     renda\n",
            "0   2.990720  3.104587\n",
            "1   3.440418  3.475067\n",
            "2   3.459466  3.600048\n",
            "3   2.493205  2.493205\n",
            "4   3.706228  3.744787\n",
            "5   1.808289  1.824549\n",
            "6   3.653252  3.799974\n",
            "7   3.238678  3.261935\n",
            "8   2.332144  2.332144\n",
            "9   3.658420  3.693867\n",
            "10  2.079442  2.091864\n",
            "11  3.499533  3.540959\n",
            "12  3.511545  3.637586\n",
            "13  2.572612  2.646175\n",
            "14  2.694627  2.797281\n",
            "15  3.072693  3.182212\n",
            "16  3.377588  3.404525\n",
            "17  3.218876  3.342862\n",
            "18  2.884801  2.901422\n",
            "19  2.985682  3.000720\n"
          ]
        }
      ],
      "source": [
        "import pandas as pd\n",
        "import numpy as np\n",
        "\n",
        "# Dados da tabela\n",
        "data = {\n",
        "    # 'Família': [1, 2, 3, 4, 5, 6, 7, 8, 9, 10, 11, 12, 13, 14, 15, 16, 17, 18, 19, 20],\n",
        "    'gastos': [19.9, 31.2, 31.8, 12.1, 40.7, 6.1, 38.6, 25.5, 10.3, 38.8, 8, 33.1, 33.5, 13.1, 14.8, 21.6, 29.3, 25, 17.9, 19.8],\n",
        "    'renda': [22.3, 32.3, 36.6, 12.1, 42.3, 6.2, 44.7, 26.1, 10.3, 40.2, 8.1, 34.5, 38, 14.1, 16.4, 24.1, 30.1, 28.3, 18.2, 20.1]\n",
        "}\n",
        "\n",
        "# Converter para um DataFrame do pandas\n",
        "df = np.log(pd.DataFrame(data))\n",
        "\n",
        "# # Exibir o DataFrame\n",
        "print(df)\n"
      ]
    },
    {
      "cell_type": "markdown",
      "metadata": {
        "id": "qAioR5-NlzRR"
      },
      "source": [
        "Obter a Regressão de Gastos e *Famílias*"
      ]
    },
    {
      "cell_type": "code",
      "execution_count": 2,
      "metadata": {
        "colab": {
          "base_uri": "https://localhost:8080/",
          "height": 883
        },
        "id": "DAfu1QvNkNjF",
        "outputId": "9808cc06-ec99-4704-e6c4-3bafa33a38e1"
      },
      "outputs": [
        {
          "name": "stdout",
          "output_type": "stream",
          "text": [
            "                            OLS Regression Results                            \n",
            "==============================================================================\n",
            "Dep. Variable:                 gastos   R-squared:                       0.993\n",
            "Model:                            OLS   Adj. R-squared:                  0.993\n",
            "Method:                 Least Squares   F-statistic:                     2744.\n",
            "Date:                Mon, 16 Oct 2023   Prob (F-statistic):           3.95e-21\n",
            "Time:                        19:20:14   Log-Likelihood:                 34.393\n",
            "No. Observations:                  20   AIC:                            -64.79\n",
            "Df Residuals:                      18   BIC:                            -62.79\n",
            "Df Model:                           1                                         \n",
            "Covariance Type:            nonrobust                                         \n",
            "==============================================================================\n",
            "                 coef    std err          t      P>|t|      [0.025      0.975]\n",
            "------------------------------------------------------------------------------\n",
            "const          0.0757      0.057      1.318      0.204      -0.045       0.196\n",
            "renda          0.9562      0.018     52.380      0.000       0.918       0.995\n",
            "==============================================================================\n",
            "Omnibus:                       18.909   Durbin-Watson:                   2.166\n",
            "Prob(Omnibus):                  0.000   Jarque-Bera (JB):                2.670\n",
            "Skew:                          -0.201   Prob(JB):                        0.263\n",
            "Kurtosis:                       1.256   Cond. No.                         19.4\n",
            "==============================================================================\n",
            "\n",
            "Notes:\n",
            "[1] Standard Errors assume that the covariance matrix of the errors is correctly specified.\n"
          ]
        },
        {
          "data": {
            "image/png": "[encoded data removed]",
            "text/plain": [
              "<Figure size 640x480 with 1 Axes>"
            ]
          },
          "metadata": {},
          "output_type": "display_data"
        }
      ],
      "source": [
        "# Importar a biblioteca statsmodels.api como sm para realizar análises estatísticas\n",
        "import statsmodels.api as sm\n",
        "\n",
        "#Importar biblioteca matplotlib para plotagem de dados\n",
        "import matplotlib.pyplot as plt\n",
        "\n",
        "# Definir a variável alvo (target) como 'gastos' do DataFrame df\n",
        "target = df.gastos\n",
        "\n",
        "# Definir as características (features) como todas as colunas do DataFrame df, exceto 'gastos'\n",
        "features = df.drop(\"gastos\", axis=1)\n",
        "\n",
        "# Adicionar uma constante (intercept) às características. Isso é necessário para a regressão linear.\n",
        "features = sm.add_constant(features)\n",
        "\n",
        "# Ajustar um modelo de regressão linear ordinária (OLS) com a variável alvo e as características\n",
        "fit = sm.OLS(target, features).fit()\n",
        "\n",
        "# Imprimir um resumo estatístico do modelo ajustado\n",
        "print(fit.summary())\n",
        "\n",
        "plt.scatter(df.renda, fit.resid ** 2)\n",
        "plt.ylabel('Resíduos^2')\n",
        "plt.xlabel('Renda')\n",
        "plt.show()\n",
        "plt.show()"
      ]
    },
    {
      "cell_type": "markdown",
      "metadata": {
        "id": "H9o9GldBot0-"
      },
      "source": [
        "**DETECÇÃO DE HETEROCEDASTICIDADE**"
      ]
    },
    {
      "cell_type": "markdown",
      "metadata": {
        "id": "8MbPmmJD3k7A"
      },
      "source": [
        "Teste de Breusch-Pagan"
      ]
    },
    {
      "cell_type": "code",
      "execution_count": 3,
      "metadata": {
        "colab": {
          "base_uri": "https://localhost:8080/"
        },
        "id": "P0XunDG6q6gq",
        "outputId": "329a7b55-0b1a-46b9-d388-6f79b085ca2c"
      },
      "outputs": [
        {
          "name": "stdout",
          "output_type": "stream",
          "text": [
            "[('LM Statistic', 11.607382986660967), ('LM-Test p-value', 0.0006569052216384828), ('F-Statistic', 24.89484429324301), ('F-Test p-value', 9.498136003581186e-05)]\n"
          ]
        }
      ],
      "source": [
        "from statsmodels.compat import lzip\n",
        "from statsmodels.stats.diagnostic import het_breuschpagan\n",
        "\n",
        "# Realize o teste de Breusch-Pagan\n",
        "bp_test = het_breuschpagan(fit.resid, features)\n",
        "labels = ['LM Statistic', 'LM-Test p-value', 'F-Statistic', 'F-Test p-value']\n",
        "print(lzip(labels, bp_test))"
      ]
    },
    {
      "cell_type": "markdown",
      "metadata": {
        "id": "wT_Klawa4VWV"
      },
      "source": [
        "Teste de White"
      ]
    },
    {
      "cell_type": "code",
      "execution_count": 4,
      "metadata": {
        "colab": {
          "base_uri": "https://localhost:8080/"
        },
        "id": "HQndXzNW345m",
        "outputId": "cd41891d-0a5f-4830-942d-8d9bd9f69824"
      },
      "outputs": [
        {
          "name": "stdout",
          "output_type": "stream",
          "text": [
            "[('LM Statistic', 12.147390995862759), ('LM-Test p-value', 0.002302648036866389), ('F-Statistic', 13.148855801993125), ('F-Test p-value', 0.0003538863512695298)]\n"
          ]
        }
      ],
      "source": [
        "from statsmodels.stats.diagnostic import het_white\n",
        "\n",
        "# Realize o teste de White\n",
        "white_test = het_white(fit.resid, features)\n",
        "labels = ['LM Statistic', 'LM-Test p-value', 'F-Statistic', 'F-Test p-value']\n",
        "print(lzip(labels, white_test))"
      ]
    },
    {
      "cell_type": "markdown",
      "metadata": {
        "id": "K10ZkJktPGIQ"
      },
      "source": [
        "Teste de Glejser"
      ]
    },
    {
      "cell_type": "code",
      "execution_count": 7,
      "metadata": {
        "id": "bTFXUphONy5g"
      },
      "outputs": [],
      "source": [
        "#Teste de Glejser\n",
        "\n",
        "glejser1 = sm.OLS(fit.resid.abs(), features).fit()\n",
        "#print(glejser1.summary())\n",
        "\n",
        "glejser2 = sm.OLS(fit.resid.abs(), 1/features).fit()\n",
        "#print(glejser2.summary())\n",
        "\n",
        "glejser3 = sm.OLS(fit.resid.abs(), features ** 0.5).fit()\n",
        "#print(glejser3.summary())\n",
        "\n",
        "glejser4 = sm.OLS(fit.resid.abs(), features ** -0.5).fit()\n",
        "#print(glejser4.summary())\n"
      ]
    },
    {
      "cell_type": "markdown",
      "metadata": {
        "id": "BmfurALK97gT"
      },
      "source": [
        "**Solução para heterocedasticidade**"
      ]
    },
    {
      "cell_type": "markdown",
      "metadata": {
        "id": "jgotVn_l53ot"
      },
      "source": [
        "Regressão de sigma^2 ~ const + beta * 1/renda"
      ]
    },
    {
      "cell_type": "code",
      "execution_count": 8,
      "metadata": {
        "colab": {
          "base_uri": "https://localhost:8080/"
        },
        "id": "3w0DcNbB4YzU",
        "outputId": "cc7e613b-bf9d-48bd-bd25-f94a26f771de"
      },
      "outputs": [
        {
          "name": "stdout",
          "output_type": "stream",
          "text": [
            "                            OLS Regression Results                            \n",
            "==============================================================================\n",
            "Dep. Variable:                      y   R-squared:                       0.580\n",
            "Model:                            OLS   Adj. R-squared:                  0.557\n",
            "Method:                 Least Squares   F-statistic:                     24.89\n",
            "Date:                Mon, 16 Oct 2023   Prob (F-statistic):           9.50e-05\n",
            "Time:                        19:21:16   Log-Likelihood:                 119.49\n",
            "No. Observations:                  20   AIC:                            -235.0\n",
            "Df Residuals:                      18   BIC:                            -233.0\n",
            "Df Model:                           1                                         \n",
            "Covariance Type:            nonrobust                                         \n",
            "==============================================================================\n",
            "                 coef    std err          t      P>|t|      [0.025      0.975]\n",
            "------------------------------------------------------------------------------\n",
            "const         -0.0021      0.001     -2.604      0.018      -0.004      -0.000\n",
            "renda          0.0013      0.000      4.989      0.000       0.001       0.002\n",
            "==============================================================================\n",
            "Omnibus:                        4.787   Durbin-Watson:                   1.880\n",
            "Prob(Omnibus):                  0.091   Jarque-Bera (JB):                2.808\n",
            "Skew:                           0.875   Prob(JB):                        0.246\n",
            "Kurtosis:                       3.556   Cond. No.                         19.4\n",
            "==============================================================================\n",
            "\n",
            "Notes:\n",
            "[1] Standard Errors assume that the covariance matrix of the errors is correctly specified.\n"
          ]
        }
      ],
      "source": [
        "# Calcula o inverso da variável 'renda' para realizar a transformação dos dados\n",
        "features_h = df.renda\n",
        "\n",
        "# Adiciona uma constante (intercept) à variável transformada para o primeiro estágio da regressão em dois estágios\n",
        "features_h = sm.add_constant(features_h)\n",
        "\n",
        "# Ajusta um modelo de regressão linear para os resíduos ao quadrado em relação à variável transformada\n",
        "fit_h = sm.OLS(fit.resid ** 2, features_h).fit()\n",
        "\n",
        "# Imprime um resumo estatístico do modelo de regressão linear do primeiro estágio\n",
        "print(fit_h.summary())\n"
      ]
    },
    {
      "cell_type": "markdown",
      "metadata": {
        "id": "HyTGCufe6PNO"
      },
      "source": [
        "Testar a hetereocedasticidade do residuo da regressão sigma^2 ~ const + beta * 1/renda"
      ]
    },
    {
      "cell_type": "code",
      "execution_count": 9,
      "metadata": {
        "colab": {
          "base_uri": "https://localhost:8080/"
        },
        "id": "aPIcgIfc98vt",
        "outputId": "7b6ef933-05b5-4abc-986d-3fdc8d696b8d"
      },
      "outputs": [
        {
          "name": "stdout",
          "output_type": "stream",
          "text": [
            "[('LM Statistic', 1.096680596434525), ('LM-Test p-value', 0.577908170084988), ('F-Statistic', 0.49312953300335316), ('F-Test p-value', 0.6191824715823008)]\n",
            "[('LM Statistic', 0.06568414112202214), ('LM-Test p-value', 0.797727555440312), ('F-Statistic', 0.05931051502175462), ('F-Test p-value', 0.8103429952978715)]\n"
          ]
        }
      ],
      "source": [
        "from statsmodels.stats.diagnostic import het_white\n",
        "from statsmodels.compat import lzip\n",
        "from statsmodels.stats.diagnostic import het_breuschpagan\n",
        "\n",
        "# Realize o teste de White\n",
        "white_test = het_white(fit_h.resid, features_h)\n",
        "labels = ['LM Statistic', 'LM-Test p-value', 'F-Statistic', 'F-Test p-value']\n",
        "print(lzip(labels, white_test))\n",
        "\n",
        "# Realize o teste de Breusch-Pagan\n",
        "bp_test = het_breuschpagan(fit_h.resid, features_h)\n",
        "labels = ['LM Statistic', 'LM-Test p-value', 'F-Statistic', 'F-Test p-value']\n",
        "print(lzip(labels, bp_test))"
      ]
    },
    {
      "cell_type": "markdown",
      "metadata": {
        "id": "UPqfRzHs6pQb"
      },
      "source": [
        "Mostrar o gráfico de residuos da regressão u^2 = (σ^2 - (const + β * 1/renda))^2 em 1/renda"
      ]
    },
    {
      "cell_type": "code",
      "execution_count": 10,
      "metadata": {
        "colab": {
          "base_uri": "https://localhost:8080/",
          "height": 465
        },
        "id": "NcNK8kIX-jzU",
        "outputId": "61a22006-6a0a-4b4c-c91e-24998dcba0ec"
      },
      "outputs": [
        {
          "data": {
            "image/png": "[encoded data removed]",
            "text/plain": [
              "<Figure size 640x480 with 1 Axes>"
            ]
          },
          "metadata": {},
          "output_type": "display_data"
        }
      ],
      "source": [
        "import matplotlib.pyplot as plt\n",
        "plt.scatter(features_h.renda, fit_h.resid ** 2)\n",
        "plt.ylabel('u^2')\n",
        "plt.xlabel('Renda')\n",
        "plt.show()\n"
      ]
    },
    {
      "cell_type": "code",
      "execution_count": 11,
      "metadata": {
        "id": "Z6U-YR506tBz"
      },
      "outputs": [],
      "source": [
        "e_i = fit_h.fittedvalues ** 0.5"
      ]
    },
    {
      "cell_type": "code",
      "execution_count": 12,
      "metadata": {
        "colab": {
          "base_uri": "https://localhost:8080/"
        },
        "id": "JxySvbjgDqLl",
        "outputId": "737c411b-88df-4fc8-85fb-a17680dfb6f2"
      },
      "outputs": [
        {
          "name": "stdout",
          "output_type": "stream",
          "text": [
            "                                 OLS Regression Results                                \n",
            "=======================================================================================\n",
            "Dep. Variable:                  yi_ei   R-squared (uncentered):                   1.000\n",
            "Model:                            OLS   Adj. R-squared (uncentered):              1.000\n",
            "Method:                 Least Squares   F-statistic:                          5.275e+04\n",
            "Date:                Mon, 16 Oct 2023   Prob (F-statistic):                    1.22e-34\n",
            "Time:                        19:21:42   Log-Likelihood:                         -27.881\n",
            "No. Observations:                  20   AIC:                                      59.76\n",
            "Df Residuals:                      18   BIC:                                      61.75\n",
            "Df Model:                           2                                                  \n",
            "Covariance Type:            nonrobust                                                  \n",
            "==============================================================================\n",
            "                 coef    std err          t      P>|t|      [0.025      0.975]\n",
            "------------------------------------------------------------------------------\n",
            "one_ei         0.0649      0.033      1.976      0.064      -0.004       0.134\n",
            "xi_ei          0.9597      0.012     79.314      0.000       0.934       0.985\n",
            "==============================================================================\n",
            "Omnibus:                       22.929   Durbin-Watson:                   1.906\n",
            "Prob(Omnibus):                  0.000   Jarque-Bera (JB):                2.863\n",
            "Skew:                          -0.226   Prob(JB):                        0.239\n",
            "Kurtosis:                       1.202   Cond. No.                         12.2\n",
            "==============================================================================\n",
            "\n",
            "Notes:\n",
            "[1] R² is computed without centering (uncentered) since the model does not contain a constant.\n",
            "[2] Standard Errors assume that the covariance matrix of the errors is correctly specified.\n"
          ]
        }
      ],
      "source": [
        "reg_2 = pd.DataFrame({'yi_ei': df.gastos/e_i,\n",
        "                      'one_ei': 1/e_i,\n",
        "                      'xi_ei': df.renda/e_i})\n",
        "\n",
        "\n",
        "X = reg_2.drop(\"yi_ei\", axis = 1)\n",
        "y = reg_2.yi_ei\n",
        "print(sm.OLS(y, X).fit().summary())"
      ]
    },
    {
      "cell_type": "code",
      "execution_count": null,
      "metadata": {
        "id": "V_NXJhCSF2fT"
      },
      "outputs": [],
      "source": []
    }
  ],
  "metadata": {
    "colab": {
      "provenance": []
    },
    "kernelspec": {
      "display_name": "Python 3",
      "name": "python3"
    },
    "language_info": {
      "codemirror_mode": {
        "name": "ipython",
        "version": 3
      },
      "file_extension": ".py",
      "mimetype": "text/x-python",
      "name": "python",
      "nbconvert_exporter": "python",
      "pygments_lexer": "ipython3",
      "version": "3.11.1"
    }
  },
  "nbformat": 4,
  "nbformat_minor": 0
}
