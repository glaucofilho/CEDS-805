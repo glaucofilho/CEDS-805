{
  "cells": [
    {
      "cell_type": "markdown",
      "metadata": {
        "id": "Liz-Yxbh7BdS"
      },
      "source": [
        "***DETECÇÃO DE HETEROCEDASTICIDADE***\n",
        "\n",
        "\n",
        "**Exercício:**\n",
        "\n",
        "Você é um analista de dados em uma agência de pesquisa social e deseja realizar uma análise de regressão para entender a relação entre a densidade populacional e a distância dos recenseamentos ao centro de negócios central em Baltimore. O objetivo é determinar se a distância tem algum impacto na densidade populacional.\n",
        "\n",
        "**Dados:**\n",
        "\n",
        "Você possui duas listas de dados: \"Densidade\" (densidade populacional) e \"Distância\" (distância do recenseamento ao centro de negócios central). As listas estão mais abaixo\n",
        "\n",
        "**Exercício:**\n",
        "\n",
        "1. Carregue os dados em um pandas dataframe.\n",
        "\n",
        "2. ajuste um modelo de regressão linear simples com a distância como variável independente (features ou x) e o densidade como variável dependente (target ou y).\n",
        "\n",
        "3. Calcule os resíduos do modelo de regressão.\n",
        "\n",
        "4. Realize um teste de White ou Breusch-Pagan (você pode escolher) para detectar a heterocedasticidade nos resíduos. Use um nível de significância de 0,05.\n",
        "\n",
        "5. Com base no resultado do teste, interprete se há evidências de heterocedasticidade nos resíduos.\n",
        "\n",
        "6. Crie gráficos de dispersão dos resíduos em relação à distância para visualizar possíveis padrões de heterocedasticidade."
      ]
    },
    {
      "cell_type": "code",
      "execution_count": null,
      "metadata": {
        "id": "wFYCMC7L7YCN"
      },
      "outputs": [],
      "source": [
        "densidade =  [\n",
        "        18640.0, 38275.0, 2450.3, 21969.0, 9573.7, 13751.0, 38947.0, 17921.0, 5050.7, 4519.0,\n",
        "        6781.1, 8246.2, 5166.4, 7762.4, 11081.0, 7188.0, 13753.0, 7492.4, 3620.9, 6390.6,\n",
        "        5485.8, 3416.5, 8194.7, 5091.9, 1183.8, 4157.9, 2158.3, 12428.0, 6788.5, 3277.4,\n",
        "        3258.2, 5491.3, 865.02, 340.69, 507.03, 323.67, 108.36, 805.66, 156.84\n",
        "    ]\n",
        "distancia = [\n",
        "        1.002, 1.403, 2.004, 2.138, 2.205, 3.608, 3.675, 4.009, 4.276, 4.410,\n",
        "        4.543, 4.810, 4.944, 5.211, 5.345, 5.679, 5.813, 5.813, 5.879, 6.080,\n",
        "        6.748, 6.882, 6.948, 6.948, 7.082, 7.416, 7.483, 7.617, 7.750, 7.750,\n",
        "        7.951, 8.084, 11.250, 13.250, 15.500, 18.000, 19.000, 23.000, 26.250\n",
        "    ]\n"
      ]
    },
    {
      "cell_type": "code",
      "execution_count": null,
      "metadata": {
        "id": "lihyERip8Dsb"
      },
      "outputs": [],
      "source": [
        "#construir Data Frame\n",
        "import pandas as pd\n",
        "import numpy as np\n",
        "\n",
        "data = pd.DataFrame({'densidade': densidade,\n",
        "                     'distancia': distancia})\n",
        "\n",
        "# Converter para um DataFrame do pandas\n",
        "df = np.log(data)\n",
        "\n",
        "# Exibir o DataFrame\n",
        "# print(df)"
      ]
    },
    {
      "cell_type": "code",
      "execution_count": null,
      "metadata": {
        "colab": {
          "base_uri": "https://localhost:8080/",
          "height": 883
        },
        "id": "Ni_1O6tEICuW",
        "outputId": "04dd7aa3-3a32-437e-f67f-7ea53dfbfb1b"
      },
      "outputs": [
        {
          "name": "stdout",
          "output_type": "stream",
          "text": [
            "                            OLS Regression Results                            \n",
            "==============================================================================\n",
            "Dep. Variable:              densidade   R-squared:                       0.637\n",
            "Model:                            OLS   Adj. R-squared:                  0.627\n",
            "Method:                 Least Squares   F-statistic:                     64.96\n",
            "Date:                Tue, 05 Sep 2023   Prob (F-statistic):           1.16e-09\n",
            "Time:                        21:08:31   Log-Likelihood:                -48.217\n",
            "No. Observations:                  39   AIC:                             100.4\n",
            "Df Residuals:                      37   BIC:                             103.8\n",
            "Df Model:                           1                                         \n",
            "Covariance Type:            nonrobust                                         \n",
            "==============================================================================\n",
            "                 coef    std err          t      P>|t|      [0.025      0.975]\n",
            "------------------------------------------------------------------------------\n",
            "const         11.2004      0.382     29.291      0.000      10.426      11.975\n",
            "distancia     -1.5963      0.198     -8.060      0.000      -1.998      -1.195\n",
            "==============================================================================\n",
            "Omnibus:                        3.652   Durbin-Watson:                   1.476\n",
            "Prob(Omnibus):                  0.161   Jarque-Bera (JB):                2.710\n",
            "Skew:                          -0.637   Prob(JB):                        0.258\n",
            "Kurtosis:                       3.214   Cond. No.                         6.69\n",
            "==============================================================================\n",
            "\n",
            "Notes:\n",
            "[1] Standard Errors assume that the covariance matrix of the errors is correctly specified.\n"
          ]
        },
        {
          "data": {
            "image/png": "[encoded data removed]",
            "text/plain": [
              "<Figure size 640x480 with 1 Axes>"
            ]
          },
          "metadata": {},
          "output_type": "display_data"
        }
      ],
      "source": [
        "# Importar a biblioteca statsmodels.api como sm para realizar análises estatísticas\n",
        "import statsmodels.api as sm\n",
        "\n",
        "#Importar biblioteca matplotlib para plotagem de dados\n",
        "import matplotlib.pyplot as plt\n",
        "\n",
        "# Definir a variável alvo (target) como 'gastos' do DataFrame df\n",
        "target = df.densidade\n",
        "\n",
        "# Definir as características (features) como todas as colunas do DataFrame df, exceto 'gastos'\n",
        "features = df.drop(\"densidade\", axis=1)\n",
        "\n",
        "# Adicionar uma constante (intercept) às características. Isso é necessário para a regressão linear.\n",
        "features = sm.add_constant(features)\n",
        "\n",
        "# Ajustar um modelo de regressão linear ordinária (OLS) com a variável alvo e as características\n",
        "fit = sm.OLS(target, features).fit()\n",
        "\n",
        "# Imprimir um resumo estatístico do modelo ajustado\n",
        "print(fit.summary())\n",
        "\n",
        "plt.scatter(df.densidade, fit.resid ** 2)\n",
        "plt.ylabel('Resíduos^2')\n",
        "plt.xlabel('Renda')\n",
        "plt.show()\n",
        "plt.show()"
      ]
    },
    {
      "cell_type": "code",
      "execution_count": null,
      "metadata": {
        "colab": {
          "base_uri": "https://localhost:8080/"
        },
        "id": "6Ogd9QvyJmwL",
        "outputId": "446ee7a5-fc06-4b02-938b-8559df6d4125"
      },
      "outputs": [
        {
          "name": "stdout",
          "output_type": "stream",
          "text": [
            "[('LM Statistic', 0.2980953100603255), ('LM-Test p-value', 0.5850789614180926), ('F-Statistic', 0.2849866579072798), ('F-Test p-value', 0.5966441788468815)]\n",
            "[('LM Statistic', 4.15913841776517), ('LM-Test p-value', 0.1249840426182952), ('F-Statistic', 2.148755458962187), ('F-Test p-value', 0.13135210123133895)]\n"
          ]
        }
      ],
      "source": [
        "from statsmodels.compat import lzip\n",
        "from statsmodels.stats.diagnostic import het_breuschpagan\n",
        "from statsmodels.stats.diagnostic import het_white\n",
        "\n",
        "# Realize o teste de Breusch-Pagan\n",
        "bp_test = het_breuschpagan(fit.resid, features)\n",
        "labels = ['LM Statistic', 'LM-Test p-value', 'F-Statistic', 'F-Test p-value']\n",
        "print(lzip(labels, bp_test))\n",
        "\n",
        "\n",
        "# Realize o teste de White\n",
        "white_test = het_white(fit.resid, features)\n",
        "labels = ['LM Statistic', 'LM-Test p-value', 'F-Statistic', 'F-Test p-value']\n",
        "print(lzip(labels, white_test))"
      ]
    },
    {
      "cell_type": "code",
      "execution_count": null,
      "metadata": {
        "id": "agl2ougLKC1o"
      },
      "outputs": [],
      "source": []
    },
    {
      "cell_type": "markdown",
      "metadata": {
        "id": "-_A29OKVJxVN"
      },
      "source": [
        "teste de Breusch-Pagan -> p valor do F teste é 0.59, superior à 0.05. Aceita a hipótese nula de heterocedasticidade\n",
        "\n",
        "teste de Whoite -> p valor do F teste é 0.13, superior à 0.05. Aceita a hipótese nula de heterocedasticidade\n",
        "\n",
        "Logo ao transformarmos a variável usando log obtemos uma regressão sem problemas de heterocedasticidade.\n",
        "\n",
        "Logo o modelo final em log é:\n",
        "- log(densidade) = 11.20 - 1.5963 * log(distancia)"
      ]
    },
    {
      "cell_type": "code",
      "execution_count": null,
      "metadata": {
        "id": "b9j5Nohb9vk_"
      },
      "outputs": [],
      "source": []
    }
  ],
  "metadata": {
    "colab": {
      "provenance": []
    },
    "kernelspec": {
      "display_name": "Python 3",
      "name": "python3"
    },
    "language_info": {
      "name": "python"
    }
  },
  "nbformat": 4,
  "nbformat_minor": 0
}
