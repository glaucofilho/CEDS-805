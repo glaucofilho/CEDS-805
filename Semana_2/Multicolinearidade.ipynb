{
  "nbformat": 4,
  "nbformat_minor": 0,
  "metadata": {
    "colab": {
      "provenance": []
    },
    "kernelspec": {
      "name": "python3",
      "display_name": "Python 3"
    },
    "language_info": {
      "name": "python"
    }
  },
  "cells": [
    {
      "cell_type": "markdown",
      "source": [
        "Verificando Multicolinearidade no exercício da 1a aula."
      ],
      "metadata": {
        "id": "O7UFipeZSACD"
      }
    },
    {
      "cell_type": "code",
      "execution_count": null,
      "metadata": {
        "id": "-XNjWXXBfnb6"
      },
      "outputs": [],
      "source": [
        "import numpy as np\n",
        "import pandas as pd\n",
        "\n",
        "# Dados de entrada\n",
        "horas_estudo = [2, 3, 4, 5, 6, 7, 8, 9, 10, 11, 12, 13, 14, 15, 16]\n",
        "exercicios = [3, 4, 5, 6, 7, 4, 3, 5, 6, 7, 8, 4, 3, 5, 6]\n",
        "notas = [65, 78, 89, 92, 98, 75, 69, 80, 88, 94, 100, 72, 68, 82, 90]\n",
        "\n",
        "df = pd.DataFrame({\n",
        "    'horas_estudo':horas_estudo,\n",
        "    'exercicios': exercicios,\n",
        "    'notas': notas})"
      ]
    },
    {
      "cell_type": "markdown",
      "source": [
        "calcular o fator inflação de variância de cada variável independente"
      ],
      "metadata": {
        "id": "hXH4cra96izt"
      }
    },
    {
      "cell_type": "code",
      "source": [
        "import statsmodels.api as sm\n",
        "from statsmodels.stats.outliers_influence import variance_inflation_factor\n",
        "\n",
        "# Subtraia notas para obter somente as variáveis independentes\n",
        "X = df.drop('notas', axis=1)\n",
        "\n",
        "# Adicione uma coluna constante ao DataFrame para calcular o VIF\n",
        "# X = sm.add_constant(X)\n",
        "\n",
        "# Calcule o VIF para cada variável\n",
        "vif = pd.DataFrame()\n",
        "vif[\"Variavel\"] = X.columns\n",
        "vif[\"VIF\"] = [variance_inflation_factor(X.values, i) for i in range(X.shape[1])]\n",
        "\n",
        "# Exiba o DataFrame com os resultados\n",
        "print(vif)\n"
      ],
      "metadata": {
        "id": "5Fx4aCgHfyGe",
        "colab": {
          "base_uri": "https://localhost:8080/"
        },
        "outputId": "e81366b0-ca9e-4b81-d493-ebedb1af5b9b"
      },
      "execution_count": null,
      "outputs": [
        {
          "output_type": "stream",
          "name": "stdout",
          "text": [
            "       Variavel       VIF\n",
            "0  horas_estudo  4.797708\n",
            "1    exercicios  4.797708\n"
          ]
        }
      ]
    },
    {
      "cell_type": "markdown",
      "source": [
        "Regressão entre variáveis independentes horas_estudo ~ exercicios"
      ],
      "metadata": {
        "id": "Ky6ipnZY6TS7"
      }
    },
    {
      "cell_type": "code",
      "source": [
        "x1 = X.drop('horas_estudo', axis=1)\n",
        "print(sm.OLS(horas_estudo, x1).fit().summary())"
      ],
      "metadata": {
        "id": "jBCYKGR1gBXL",
        "colab": {
          "base_uri": "https://localhost:8080/"
        },
        "outputId": "0a85aed9-51ec-4353-a9bb-918ee33b4dba"
      },
      "execution_count": null,
      "outputs": [
        {
          "output_type": "stream",
          "name": "stdout",
          "text": [
            "                                 OLS Regression Results                                \n",
            "=======================================================================================\n",
            "Dep. Variable:                      y   R-squared (uncentered):                   0.792\n",
            "Model:                            OLS   Adj. R-squared (uncentered):              0.777\n",
            "Method:                 Least Squares   F-statistic:                              53.17\n",
            "Date:                Wed, 06 Sep 2023   Prob (F-statistic):                    3.96e-06\n",
            "Time:                        23:05:10   Log-Likelihood:                         -44.037\n",
            "No. Observations:                  15   AIC:                                      90.07\n",
            "Df Residuals:                      14   BIC:                                      90.78\n",
            "Df Model:                           1                                                  \n",
            "Covariance Type:            nonrobust                                                  \n",
            "==============================================================================\n",
            "                 coef    std err          t      P>|t|      [0.025      0.975]\n",
            "------------------------------------------------------------------------------\n",
            "exercicios     1.6786      0.230      7.292      0.000       1.185       2.172\n",
            "==============================================================================\n",
            "Omnibus:                        1.714   Durbin-Watson:                   0.401\n",
            "Prob(Omnibus):                  0.424   Jarque-Bera (JB):                1.116\n",
            "Skew:                           0.390   Prob(JB):                        0.572\n",
            "Kurtosis:                       1.916   Cond. No.                         1.00\n",
            "==============================================================================\n",
            "\n",
            "Notes:\n",
            "[1] R² is computed without centering (uncentered) since the model does not contain a constant.\n",
            "[2] Standard Errors assume that the covariance matrix of the errors is correctly specified.\n"
          ]
        },
        {
          "output_type": "stream",
          "name": "stderr",
          "text": [
            "/usr/local/lib/python3.10/dist-packages/scipy/stats/_stats_py.py:1736: UserWarning: kurtosistest only valid for n>=20 ... continuing anyway, n=15\n",
            "  warnings.warn(\"kurtosistest only valid for n>=20 ... continuing \"\n"
          ]
        }
      ]
    },
    {
      "cell_type": "markdown",
      "source": [
        "## Exemplo 2\n",
        "\n",
        "Modelar o volume de importações em função do PIB, do estoque de produtos e do consumo."
      ],
      "metadata": {
        "id": "5_h_SlfN6oLE"
      }
    },
    {
      "cell_type": "code",
      "source": [
        "import numpy as np\n",
        "import pandas as pd\n",
        "\n",
        "data = {\n",
        "    'Imports': [15.9, 16.4, 19.0, 19.1, 18.8, 20.4, 22.7, 26.5, 28.1, 27.6, 26.3, 31.1, 33.3, 37.0, 43.3, 49.0, 50.3, 56.6],\n",
        "    'GDP': [149.3, 161.2, 171.5, 175.5, 180.8, 190.7, 202.1, 212.4, 226.1, 231.9, 239.0, 258.0, 269.8, 288.4, 304.5, 323.4, 336.8, 353.9],\n",
        "    'Stock': [4.2, 4.1, 3.1, 3.1, 1.1, 2.2, 2.1, 5.6, 5.0, 5.1, 0.7, 5.6, 3.9, 3.1, 4.6, 7.0, 1.2, 4.5],\n",
        "    'Consumption': [108.1, 114.8, 123.2, 126.9, 132.1, 137.7, 146.0, 154.1, 162.3, 164.3, 167.6, 176.8, 186.6, 199.7, 213.9, 223.8, 232.0, 242.9]\n",
        "}\n",
        "\n",
        "df = pd.DataFrame(data)"
      ],
      "metadata": {
        "id": "BlSdI3u6hO8r"
      },
      "execution_count": null,
      "outputs": []
    },
    {
      "cell_type": "code",
      "source": [
        "import statsmodels.api as sm\n",
        "\n",
        "# Subtraia Imports para obter somente as variáveis independentes\n",
        "X = df.drop('Imports', axis=1)\n",
        "\n",
        "# Adicione uma coluna constante ao DataFrame para calcular o VIF\n",
        "X = sm.add_constant(X)\n",
        "model_0 = sm.OLS(df.Imports, X).fit()\n",
        "print(model_0.summary())"
      ],
      "metadata": {
        "colab": {
          "base_uri": "https://localhost:8080/"
        },
        "id": "ygTXGPWFjxFw",
        "outputId": "b8a96720-31d9-4d97-ab4e-b359f2d226e3"
      },
      "execution_count": null,
      "outputs": [
        {
          "output_type": "stream",
          "name": "stdout",
          "text": [
            "                            OLS Regression Results                            \n",
            "==============================================================================\n",
            "Dep. Variable:                Imports   R-squared:                       0.973\n",
            "Model:                            OLS   Adj. R-squared:                  0.967\n",
            "Method:                 Least Squares   F-statistic:                     168.4\n",
            "Date:                Wed, 06 Sep 2023   Prob (F-statistic):           3.21e-11\n",
            "Time:                        23:06:04   Log-Likelihood:                -37.941\n",
            "No. Observations:                  18   AIC:                             83.88\n",
            "Df Residuals:                      14   BIC:                             87.44\n",
            "Df Model:                           3                                         \n",
            "Covariance Type:            nonrobust                                         \n",
            "===============================================================================\n",
            "                  coef    std err          t      P>|t|      [0.025      0.975]\n",
            "-------------------------------------------------------------------------------\n",
            "const         -19.7251      4.125     -4.782      0.000     -28.573     -10.877\n",
            "GDP             0.0322      0.187      0.172      0.866      -0.369       0.433\n",
            "Stock           0.4142      0.322      1.285      0.220      -0.277       1.105\n",
            "Consumption     0.2427      0.285      0.851      0.409      -0.369       0.855\n",
            "==============================================================================\n",
            "Omnibus:                        0.906   Durbin-Watson:                   0.240\n",
            "Prob(Omnibus):                  0.636   Jarque-Bera (JB):                0.807\n",
            "Skew:                           0.274   Prob(JB):                        0.668\n",
            "Kurtosis:                       2.120   Cond. No.                     2.33e+03\n",
            "==============================================================================\n",
            "\n",
            "Notes:\n",
            "[1] Standard Errors assume that the covariance matrix of the errors is correctly specified.\n",
            "[2] The condition number is large, 2.33e+03. This might indicate that there are\n",
            "strong multicollinearity or other numerical problems.\n"
          ]
        },
        {
          "output_type": "stream",
          "name": "stderr",
          "text": [
            "/usr/local/lib/python3.10/dist-packages/scipy/stats/_stats_py.py:1736: UserWarning: kurtosistest only valid for n>=20 ... continuing anyway, n=18\n",
            "  warnings.warn(\"kurtosistest only valid for n>=20 ... continuing \"\n"
          ]
        }
      ]
    },
    {
      "cell_type": "code",
      "source": [
        "# Calcule o VIF para cada variável\n",
        "from statsmodels.stats.outliers_influence import variance_inflation_factor\n",
        "\n",
        "X = df.drop('Imports', axis=1)\n",
        "vif = pd.DataFrame()\n",
        "vif[\"Variavel\"] = X.columns\n",
        "vif[\"VIF\"] = [variance_inflation_factor(X.values, i) for i in range(X.shape[1])]\n",
        "\n",
        "print(vif)\n",
        "\n",
        "x1 = X.drop(['Stock','GDP'], axis = 1)\n",
        "x1 = sm.add_constant(x1)\n",
        "aux = sm.OLS(X.GDP,x1).fit()\n",
        "print(aux.summary())\n",
        "# print(1/(1-aux.rsquared))\n"
      ],
      "metadata": {
        "colab": {
          "base_uri": "https://localhost:8080/"
        },
        "id": "4eagMW_nS0jA",
        "outputId": "15d23e7b-4980-4910-bf5a-da65e860596f"
      },
      "execution_count": null,
      "outputs": [
        {
          "output_type": "stream",
          "name": "stdout",
          "text": [
            "      Variavel          VIF\n",
            "0          GDP  2459.024215\n",
            "1        Stock     5.753553\n",
            "2  Consumption  2511.184370\n",
            "                            OLS Regression Results                            \n",
            "==============================================================================\n",
            "Dep. Variable:                    GDP   R-squared:                       0.998\n",
            "Model:                            OLS   Adj. R-squared:                  0.998\n",
            "Method:                 Least Squares   F-statistic:                     7485.\n",
            "Date:                Wed, 06 Sep 2023   Prob (F-statistic):           8.42e-23\n",
            "Time:                        23:09:51   Log-Likelihood:                -44.398\n",
            "No. Observations:                  18   AIC:                             92.80\n",
            "Df Residuals:                      16   BIC:                             94.58\n",
            "Df Model:                           1                                         \n",
            "Covariance Type:            nonrobust                                         \n",
            "===============================================================================\n",
            "                  coef    std err          t      P>|t|      [0.025      0.975]\n",
            "-------------------------------------------------------------------------------\n",
            "const         -17.8868      3.037     -5.890      0.000     -24.325     -11.449\n",
            "Consumption     1.5259      0.018     86.518      0.000       1.489       1.563\n",
            "==============================================================================\n",
            "Omnibus:                        0.118   Durbin-Watson:                   0.838\n",
            "Prob(Omnibus):                  0.942   Jarque-Bera (JB):                0.311\n",
            "Skew:                           0.134   Prob(JB):                        0.856\n",
            "Kurtosis:                       2.414   Cond. No.                         734.\n",
            "==============================================================================\n",
            "\n",
            "Notes:\n",
            "[1] Standard Errors assume that the covariance matrix of the errors is correctly specified.\n"
          ]
        },
        {
          "output_type": "stream",
          "name": "stderr",
          "text": [
            "/usr/local/lib/python3.10/dist-packages/scipy/stats/_stats_py.py:1736: UserWarning: kurtosistest only valid for n>=20 ... continuing anyway, n=18\n",
            "  warnings.warn(\"kurtosistest only valid for n>=20 ... continuing \"\n"
          ]
        }
      ]
    },
    {
      "cell_type": "code",
      "source": [
        "from sklearn.decomposition import PCA\n",
        "from sklearn.preprocessing import StandardScaler\n",
        "\n",
        "# Subtraia Imports para obter somente as variáveis independentes\n",
        "X = df.drop('Imports', axis=1)\n",
        "\n",
        "# Padronize as variáveis independentes (importante para PCA)\n",
        "scaler = StandardScaler()\n",
        "X_scaled = scaler.fit_transform(X)\n",
        "\n",
        "# Realize a Análise de Componentes Principais (PCA) para reduzir a dimensionalidade\n",
        "n_components = 2  # Escolha o número de componentes principais desejados\n",
        "pca = PCA(n_components=n_components)\n",
        "X_pca = pca.fit_transform(X_scaled)\n",
        "\n",
        "X_pca = pd.DataFrame(X_pca)\n",
        "\n",
        "# # Adicione uma constante ao conjunto de dados para incluir o intercepto no modelo\n",
        "X_pca = sm.add_constant(X_pca)\n",
        "\n",
        "# # Ajuste um modelo de regressão linear usando as componentes principais\n",
        "model = sm.OLS(df.Imports, X_pca).fit()\n",
        "\n",
        "# # Imprima os resultados da regressão\n",
        "# print(model.summary())\n",
        "\n",
        "vif = pd.DataFrame()\n",
        "vif[\"Variavel\"] = X_pca.columns\n",
        "vif[\"VIF\"] = [variance_inflation_factor(X_pca.values, i) for i in range(X_pca.shape[1])]\n",
        "\n",
        "print(vif)\n"
      ],
      "metadata": {
        "colab": {
          "base_uri": "https://localhost:8080/"
        },
        "id": "kUYxkjDald7M",
        "outputId": "7054f3c7-f719-4147-dbda-3d210dca449c"
      },
      "execution_count": null,
      "outputs": [
        {
          "output_type": "stream",
          "name": "stdout",
          "text": [
            "  Variavel  VIF\n",
            "0    const  1.0\n",
            "1        0  1.0\n",
            "2        1  1.0\n"
          ]
        }
      ]
    },
    {
      "cell_type": "code",
      "source": [
        "y = model.resid ** 2\n",
        "print(sm.OLS(y, X_pca).fit().summary())"
      ],
      "metadata": {
        "colab": {
          "base_uri": "https://localhost:8080/"
        },
        "id": "Qqj1PVh5VdXN",
        "outputId": "cf1935dc-3e36-436d-e784-a06b8c611974"
      },
      "execution_count": null,
      "outputs": [
        {
          "output_type": "stream",
          "name": "stdout",
          "text": [
            "                            OLS Regression Results                            \n",
            "==============================================================================\n",
            "Dep. Variable:                      y   R-squared:                       0.199\n",
            "Model:                            OLS   Adj. R-squared:                  0.093\n",
            "Method:                 Least Squares   F-statistic:                     1.869\n",
            "Date:                Wed, 06 Sep 2023   Prob (F-statistic):              0.189\n",
            "Time:                        23:24:35   Log-Likelihood:                -49.888\n",
            "No. Observations:                  18   AIC:                             105.8\n",
            "Df Residuals:                      15   BIC:                             108.4\n",
            "Df Model:                           2                                         \n",
            "Covariance Type:            nonrobust                                         \n",
            "==============================================================================\n",
            "                 coef    std err          t      P>|t|      [0.025      0.975]\n",
            "------------------------------------------------------------------------------\n",
            "const          3.9987      0.999      4.004      0.001       1.870       6.127\n",
            "0              1.2829      0.692      1.855      0.083      -0.192       2.757\n",
            "1              0.5698      1.044      0.546      0.593      -1.655       2.795\n",
            "==============================================================================\n",
            "Omnibus:                        1.585   Durbin-Watson:                   0.949\n",
            "Prob(Omnibus):                  0.453   Jarque-Bera (JB):                1.201\n",
            "Skew:                           0.598   Prob(JB):                        0.549\n",
            "Kurtosis:                       2.587   Cond. No.                         1.51\n",
            "==============================================================================\n",
            "\n",
            "Notes:\n",
            "[1] Standard Errors assume that the covariance matrix of the errors is correctly specified.\n"
          ]
        },
        {
          "output_type": "stream",
          "name": "stderr",
          "text": [
            "/usr/local/lib/python3.10/dist-packages/scipy/stats/_stats_py.py:1736: UserWarning: kurtosistest only valid for n>=20 ... continuing anyway, n=18\n",
            "  warnings.warn(\"kurtosistest only valid for n>=20 ... continuing \"\n"
          ]
        }
      ]
    },
    {
      "cell_type": "code",
      "source": [
        "aux = X.drop([\"GDP\", \"Stock\"], axis = 1)\n",
        "aux = sm.add_constant(aux)\n",
        "\n",
        "model = sm.OLS(df.Imports, aux).fit()\n",
        "print(model.summary())\n"
      ],
      "metadata": {
        "id": "oUCXyPn_pL5_",
        "colab": {
          "base_uri": "https://localhost:8080/"
        },
        "outputId": "6872c222-4351-4bfe-fbe1-dfe4ddad6dd6"
      },
      "execution_count": null,
      "outputs": [
        {
          "output_type": "stream",
          "name": "stdout",
          "text": [
            "                            OLS Regression Results                            \n",
            "==============================================================================\n",
            "Dep. Variable:                Imports   R-squared:                       0.970\n",
            "Model:                            OLS   Adj. R-squared:                  0.968\n",
            "Method:                 Least Squares   F-statistic:                     513.1\n",
            "Date:                Wed, 06 Sep 2023   Prob (F-statistic):           1.39e-13\n",
            "Time:                        19:17:58   Log-Likelihood:                -38.975\n",
            "No. Observations:                  18   AIC:                             81.95\n",
            "Df Residuals:                      16   BIC:                             83.73\n",
            "Df Model:                           1                                         \n",
            "Covariance Type:            nonrobust                                         \n",
            "===============================================================================\n",
            "                  coef    std err          t      P>|t|      [0.025      0.975]\n",
            "-------------------------------------------------------------------------------\n",
            "const         -19.3982      2.247     -8.633      0.000     -24.161     -14.635\n",
            "Consumption     0.2956      0.013     22.652      0.000       0.268       0.323\n",
            "==============================================================================\n",
            "Omnibus:                        0.408   Durbin-Watson:                   0.541\n",
            "Prob(Omnibus):                  0.815   Jarque-Bera (JB):                0.536\n",
            "Skew:                           0.221   Prob(JB):                        0.765\n",
            "Kurtosis:                       2.280   Cond. No.                         734.\n",
            "==============================================================================\n",
            "\n",
            "Notes:\n",
            "[1] Standard Errors assume that the covariance matrix of the errors is correctly specified.\n"
          ]
        },
        {
          "output_type": "stream",
          "name": "stderr",
          "text": [
            "/usr/local/lib/python3.10/dist-packages/scipy/stats/_stats_py.py:1736: UserWarning: kurtosistest only valid for n>=20 ... continuing anyway, n=18\n",
            "  warnings.warn(\"kurtosistest only valid for n>=20 ... continuing \"\n"
          ]
        }
      ]
    },
    {
      "cell_type": "code",
      "source": [
        "from statsmodels.stats.diagnostic import het_white\n",
        "from statsmodels.compat import lzip\n",
        "from statsmodels.stats.diagnostic import het_breuschpagan\n",
        "\n",
        "residuals = model.resid ** 2\n",
        "features = X_pca\n",
        "\n",
        "# Realize o teste de White\n",
        "white_test = het_white(residuals, features)\n",
        "labels = ['LM Statistic', 'LM-Test p-value', 'F-Statistic', 'F-Test p-value']\n",
        "print(lzip(labels, white_test))\n",
        "\n",
        "# Realize o teste de Breusch-Pagan\n",
        "bp_test = het_breuschpagan(residuals, features)\n",
        "labels = ['LM Statistic', 'LM-Test p-value', 'F-Statistic', 'F-Test p-value']\n",
        "print(lzip(labels, bp_test))"
      ],
      "metadata": {
        "id": "3Kx8_w4ss1r_",
        "colab": {
          "base_uri": "https://localhost:8080/"
        },
        "outputId": "5d102f19-9dad-4899-8d2a-f38a0eeda6a0"
      },
      "execution_count": null,
      "outputs": [
        {
          "output_type": "stream",
          "name": "stdout",
          "text": [
            "[('LM Statistic', 4.906617183378236), ('LM-Test p-value', 0.42738284084671785), ('F-Statistic', 0.899376532790177), ('F-Test p-value', 0.5121700448091738)]\n",
            "[('LM Statistic', 2.2172239225548402), ('LM-Test p-value', 0.3300167192941063), ('F-Statistic', 1.0536282931192134), ('F-Test p-value', 0.3731055191466175)]\n"
          ]
        }
      ]
    },
    {
      "cell_type": "code",
      "source": [],
      "metadata": {
        "id": "6BHwgo1tWLfq"
      },
      "execution_count": null,
      "outputs": []
    },
    {
      "cell_type": "code",
      "source": [],
      "metadata": {
        "id": "wdnqJQKYXKay"
      },
      "execution_count": null,
      "outputs": []
    }
  ]
}