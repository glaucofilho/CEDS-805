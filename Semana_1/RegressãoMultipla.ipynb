{
 "cells": [
  {
   "cell_type": "markdown",
   "metadata": {
    "id": "zsXWP0P17r1C"
   },
   "source": [
    "Regressão Linear Múltipla"
   ]
  },
  {
   "cell_type": "code",
   "execution_count": 1,
   "metadata": {},
   "outputs": [],
   "source": [
    "# Importando as bibliotecas necessárias\n",
    "import numpy as np\n",
    "import pandas as pd\n",
    "import statsmodels.api as sm\n",
    "import matplotlib.pyplot as plt"
   ]
  },
  {
   "cell_type": "code",
   "execution_count": 2,
   "metadata": {
    "id": "f4DxvOvF79IA"
   },
   "outputs": [],
   "source": [
    "# Dados de entrada\n",
    "horas_estudo = [2, 3, 4, 5, 6, 7, 8, 9, 10, 11, 12, 13, 14, 15, 16]\n",
    "exercicios = [3, 4, 5, 6, 7, 4, 3, 5, 6, 7, 8, 4, 3, 5, 6]\n",
    "notas = [65, 78, 89, 92, 98, 75, 69, 80, 88, 94, 100, 72, 68, 82, 90]"
   ]
  },
  {
   "cell_type": "code",
   "execution_count": 3,
   "metadata": {
    "id": "xPYSIAJp8LeZ"
   },
   "outputs": [],
   "source": [
    "# Criar matriz X com colunas de Horas de Estudo e Exercícios\n",
    "X = np.array([horas_estudo, exercicios]).T\n",
    "\n",
    "# Adicionar coluna de 1s para o termo linear\n",
    "X = np.column_stack((np.ones(len(X)), X))\n",
    "\n",
    "# Criar vetor Y de Notas\n",
    "Y = np.array(notas).reshape(-1, 1)\n",
    "\n",
    "# Calcular os coeficientes usando a fórmula dos mínimos quadrados (X'X)^{-1}X'y\n",
    "coeficientes = np.linalg.inv(X.T @ X) @ X.T @ Y"
   ]
  },
  {
   "cell_type": "code",
   "execution_count": 4,
   "metadata": {
    "id": "VmZcKOuI8TFX"
   },
   "outputs": [
    {
     "data": {
      "text/plain": [
       "array([[49.04846365],\n",
       "       [-0.25685736],\n",
       "       [ 7.09143143]])"
      ]
     },
     "execution_count": 4,
     "metadata": {},
     "output_type": "execute_result"
    }
   ],
   "source": [
    "coeficientes"
   ]
  },
  {
   "cell_type": "code",
   "execution_count": 5,
   "metadata": {
    "id": "wqdzrhvt8UrP"
   },
   "outputs": [],
   "source": [
    "# Estimativa de notas usando horas de estudos + exercicios\n",
    "notas_estimadas = X @ coeficientes"
   ]
  },
  {
   "cell_type": "code",
   "execution_count": 6,
   "metadata": {
    "id": "F97EjRxr8pXH"
   },
   "outputs": [
    {
     "data": {
      "text/plain": [
       "array([-4.80904322,  1.35638271,  5.52180864,  1.68723457,  0.8526605 ,\n",
       "       -0.61618786,  0.73210092, -2.19390457, -1.02847864, -1.86305271,\n",
       "       -2.69762678, -2.07504372,  1.27324507,  1.34723957,  2.5126655 ])"
      ]
     },
     "execution_count": 6,
     "metadata": {},
     "output_type": "execute_result"
    }
   ],
   "source": [
    "np.array(notas) - np.array(notas_estimadas).T[0]"
   ]
  },
  {
   "cell_type": "code",
   "execution_count": 7,
   "metadata": {
    "id": "EKUS4nXJpfP7"
   },
   "outputs": [
    {
     "name": "stdout",
     "output_type": "stream",
     "text": [
      "E_var_notas:  [124.38905062] , var_notas:  119.28888888888888\n"
     ]
    }
   ],
   "source": [
    "# componente de horas de estudos na variancia de notas\n",
    "var_horas_estudo = (coeficientes[1] ** 2) * (np.var(horas_estudo))\n",
    "var_horas_estudo\n",
    "\n",
    "# componente de exercicios na variancia de notas\n",
    "var_exercicios = (coeficientes[2] ** 2) * (np.var(exercicios))\n",
    "var_exercicios\n",
    "\n",
    "# componente de residuos na variancia de notas\n",
    "residuo = np.array(notas) - np.array(notas_estimadas).T[0]\n",
    "var_residuos = np.var(residuo)\n",
    "\n",
    "print(\n",
    "    \"E_var_notas: \",\n",
    "    var_horas_estudo + var_exercicios + var_residuos,\n",
    "    \", var_notas: \",\n",
    "    np.var(notas),\n",
    ")"
   ]
  },
  {
   "cell_type": "code",
   "execution_count": 8,
   "metadata": {
    "colab": {
     "base_uri": "https://localhost:8080/",
     "height": 564
    },
    "id": "mqh_mZr_9F6E",
    "outputId": "94338168-a359-4dad-c9d5-692eb2e5a370"
   },
   "outputs": [
    {
     "data": {
      "image/png": "[encoded data removed]",
      "text/plain": [
       "<Figure size 1000x600 with 1 Axes>"
      ]
     },
     "metadata": {},
     "output_type": "display_data"
    }
   ],
   "source": [
    "# Calcular os resíduos\n",
    "residuos = Y - notas_estimadas\n",
    "\n",
    "# Plotar gráfico de resíduos versus valores previstos\n",
    "plt.figure(figsize=(10, 6))\n",
    "plt.scatter(notas_estimadas, residuos)\n",
    "plt.axhline(y=0, color=\"r\", linestyle=\"--\")\n",
    "plt.xlabel(\"Valores Previstos\")\n",
    "plt.ylabel(\"Resíduos\")\n",
    "plt.title(\"Análise de Resíduos\")\n",
    "plt.grid()\n",
    "plt.show()"
   ]
  },
  {
   "cell_type": "code",
   "execution_count": 9,
   "metadata": {
    "colab": {
     "base_uri": "https://localhost:8080/"
    },
    "id": "GSVnwndNCdMj",
    "outputId": "0fe2b9e4-8f93-4021-8bd1-40f8fb284097"
   },
   "outputs": [
    {
     "name": "stdout",
     "output_type": "stream",
     "text": [
      "                            OLS Regression Results                            \n",
      "==============================================================================\n",
      "Dep. Variable:                  notas   R-squared:                       0.949\n",
      "Model:                            OLS   Adj. R-squared:                  0.941\n",
      "Method:                 Least Squares   F-statistic:                     112.5\n",
      "Date:                Sun, 15 Oct 2023   Prob (F-statistic):           1.69e-08\n",
      "Time:                        10:49:38   Log-Likelihood:                -34.774\n",
      "No. Observations:                  15   AIC:                             75.55\n",
      "Df Residuals:                      12   BIC:                             77.67\n",
      "Df Model:                           2                                         \n",
      "Covariance Type:            nonrobust                                         \n",
      "================================================================================\n",
      "                   coef    std err          t      P>|t|      [0.025      0.975]\n",
      "--------------------------------------------------------------------------------\n",
      "const           49.0485      2.656     18.467      0.000      43.262      54.835\n",
      "horas_estudo    -0.2569      0.168     -1.528      0.152      -0.623       0.109\n",
      "exercicios       7.0914      0.476     14.904      0.000       6.055       8.128\n",
      "==============================================================================\n",
      "Omnibus:                        0.573   Durbin-Watson:                   1.093\n",
      "Prob(Omnibus):                  0.751   Jarque-Bera (JB):                0.077\n",
      "Skew:                           0.175   Prob(JB):                        0.962\n",
      "Kurtosis:                       2.978   Cond. No.                         42.1\n",
      "==============================================================================\n",
      "\n",
      "Notes:\n",
      "[1] Standard Errors assume that the covariance matrix of the errors is correctly specified.\n",
      "y estimado para 1a linha: 0    69.809043\n",
      "dtype: float64\n"
     ]
    },
    {
     "name": "stderr",
     "output_type": "stream",
     "text": [
      "c:\\GitHub\\CEDS-805\\venv\\Lib\\site-packages\\scipy\\stats\\_stats_py.py:1806: UserWarning: kurtosistest only valid for n>=20 ... continuing anyway, n=15\n",
      "  warnings.warn(\"kurtosistest only valid for n>=20 ... continuing \"\n"
     ]
    }
   ],
   "source": [
    "# Criando um DataFrame com as variáveis exógenas (horas_estudo, exercicios) e a variável endógena (notas)\n",
    "aluno = pd.DataFrame(\n",
    "    {\"horas_estudo\": horas_estudo, \"exercicios\": exercicios, \"notas\": notas}\n",
    ")\n",
    "\n",
    "# Adicionando uma coluna de 1s (termo linear) ao DataFrame\n",
    "aluno = sm.add_constant(aluno)\n",
    "\n",
    "# Definindo as variáveis independentes (X) e a variável dependente (y)\n",
    "X = aluno.drop(\n",
    "    \"notas\", axis=1\n",
    ")  # Excluindo a coluna \"notas\" para obter as variáveis independentes (features)\n",
    "y = aluno.notas  # Definindo a variável dependente (target ou alvo)\n",
    "\n",
    "# Criando o modelo de regressão linear\n",
    "model = sm.OLS(y, X).fit()\n",
    "\n",
    "# Exibindo um resumo da análise de regressão\n",
    "print(model.summary())\n",
    "\n",
    "# Fazendo uma previsão com o modelo usando os dados da primeira linha\n",
    "previsao_primeira_linha = model.predict(X.head(1))\n",
    "print(\"y estimado para 1a linha:\", previsao_primeira_linha)"
   ]
  },
  {
   "cell_type": "markdown",
   "metadata": {
    "id": "E8gQ2-y5LNi1"
   },
   "source": [
    "Coeficiente de Determinação (R2)"
   ]
  },
  {
   "cell_type": "code",
   "execution_count": 10,
   "metadata": {
    "id": "VWMspURRZrI7"
   },
   "outputs": [
    {
     "name": "stdout",
     "output_type": "stream",
     "text": [
      "[0.94935481]\n"
     ]
    }
   ],
   "source": [
    "SQE = sum((notas_estimadas - np.mean(notas_estimadas)) ** 2)\n",
    "SQT = sum((notas - np.mean(notas)) ** 2)\n",
    "\n",
    "R2 = SQE / SQT\n",
    "\n",
    "print(R2)"
   ]
  },
  {
   "cell_type": "markdown",
   "metadata": {
    "id": "PSslF4t3UoJy"
   },
   "source": [
    "Variância dos coeficientes estimados"
   ]
  },
  {
   "cell_type": "code",
   "execution_count": 11,
   "metadata": {
    "colab": {
     "base_uri": "https://localhost:8080/"
    },
    "id": "oCWLPLaSU2Tq",
    "outputId": "3a4d73a9-08c9-4024-c759-8a1f0cb323ca"
   },
   "outputs": [
    {
     "name": "stdout",
     "output_type": "stream",
     "text": [
      "[2.4589645  0.15559282 0.44050268]\n"
     ]
    }
   ],
   "source": [
    "var_resid = model.resid.var()\n",
    "dp_coeficientes = np.diag(var_resid * np.linalg.inv(X.T @ X)) ** 0.5\n",
    "\n",
    "print(dp_coeficientes)"
   ]
  },
  {
   "cell_type": "markdown",
   "metadata": {
    "id": "t_RXnHsMebrr"
   },
   "source": [
    "Limites inferior e superior do intervalo de confiança dos coeficientes"
   ]
  },
  {
   "cell_type": "code",
   "execution_count": 12,
   "metadata": {
    "colab": {
     "base_uri": "https://localhost:8080/"
    },
    "id": "gdtsU9AaU340",
    "outputId": "6253ee8a-ee61-4da1-9f06-ffd57e6a94a5"
   },
   "outputs": [
    {
     "name": "stdout",
     "output_type": "stream",
     "text": [
      "IC_inferior_alfa: [44.22889323] , IC_superior_alfa: [53.86803407]\n",
      "IC_inferior_horas_estudo: [-0.56181929] , IC_superior_horas_estudo: [0.04810457]\n",
      "IC_inferior_exercicios: [6.22804617] , IC_superior_exercicios: [7.95481668]\n"
     ]
    }
   ],
   "source": [
    "IC_inferior = coeficientes[0] - 1.96 * dp_coeficientes[0]\n",
    "IC_superior = coeficientes[0] + 1.96 * dp_coeficientes[0]\n",
    "print(\"IC_inferior_alfa:\", IC_inferior, \", IC_superior_alfa:\", IC_superior)\n",
    "\n",
    "IC_inferior = coeficientes[1] - 1.96 * dp_coeficientes[1]\n",
    "IC_superior = coeficientes[1] + 1.96 * dp_coeficientes[1]\n",
    "print(\n",
    "    \"IC_inferior_horas_estudo:\", IC_inferior, \", IC_superior_horas_estudo:\", IC_superior\n",
    ")\n",
    "\n",
    "IC_inferior = coeficientes[2] - 1.96 * dp_coeficientes[2]\n",
    "IC_superior = coeficientes[2] + 1.96 * dp_coeficientes[2]\n",
    "print(\"IC_inferior_exercicios:\", IC_inferior, \", IC_superior_exercicios:\", IC_superior)"
   ]
  }
 ],
 "metadata": {
  "colab": {
   "provenance": []
  },
  "kernelspec": {
   "display_name": "Python 3",
   "name": "python3"
  },
  "language_info": {
   "codemirror_mode": {
    "name": "ipython",
    "version": 3
   },
   "file_extension": ".py",
   "mimetype": "text/x-python",
   "name": "python",
   "nbconvert_exporter": "python",
   "pygments_lexer": "ipython3",
   "version": "3.11.1"
  }
 },
 "nbformat": 4,
 "nbformat_minor": 0
}
