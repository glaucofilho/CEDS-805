{
 "nbformat": 4,
 "nbformat_minor": 0,
 "metadata": {
  "colab": {
   "provenance": []
  },
  "kernelspec": {
   "name": "python3",
   "display_name": "Python 3"
  },
  "language_info": {
   "name": "python"
  }
 },
 "cells": [
  {
   "cell_type": "markdown",
   "source": [
    "Exercício de Regressão Múltipla:\n",
    "\n",
    "Previsão de Despesas com Base em Variáveis Financeiras\n",
    "\n",
    "Imagine que você trabalhe em uma empresa financeira e precisa prever as despesas mensais de um cliente com base em suas receitas mensais e saldo bancário. Você deseja que seus alunos apliquem a regressão linear múltipla para construir um modelo de previsão.\n",
    "\n",
    "Perguntas:\n",
    "\n",
    "Adicione uma coluna de 1s à matriz X para representar o termo linear.\n",
    "Calcule os coeficientes da regressão linear múltipla.\n",
    "Escreva a equação da regressão linear múltipla.\n",
    "Se um cliente tem Receitas Mensais de 6500 e Saldo Bancário de 3800, qual é a previsão para suas Despesas Mensais?"
   ],
   "metadata": {
    "id": "2v2HiQddtE1B"
   }
  },
  {
   "cell_type": "code",
   "source": [
    "receitas_mensais = [\n",
    "    6000,\n",
    "    8000,\n",
    "    5500,\n",
    "    7000,\n",
    "    7500,\n",
    "    9000,\n",
    "    6800,\n",
    "    7200,\n",
    "    6200,\n",
    "    8500,\n",
    "    5800,\n",
    "    7500,\n",
    "    8000,\n",
    "    6700,\n",
    "    7200,\n",
    "    6300,\n",
    "    8200,\n",
    "    5700,\n",
    "    7500,\n",
    "    7900,\n",
    "    6000,\n",
    "    8300,\n",
    "    6400,\n",
    "    7100,\n",
    "    6600,\n",
    "    7800,\n",
    "    5900,\n",
    "    7400,\n",
    "    7700,\n",
    "    6100,\n",
    "    8200,\n",
    "]\n",
    "\n",
    "saldo_bancario = [\n",
    "    3500,\n",
    "    4200,\n",
    "    3000,\n",
    "    3800,\n",
    "    4000,\n",
    "    4700,\n",
    "    3600,\n",
    "    3800,\n",
    "    3400,\n",
    "    4400,\n",
    "    3100,\n",
    "    3900,\n",
    "    4300,\n",
    "    3500,\n",
    "    3700,\n",
    "    3200,\n",
    "    4200,\n",
    "    3100,\n",
    "    3900,\n",
    "    4000,\n",
    "    3300,\n",
    "    4300,\n",
    "    3400,\n",
    "    3800,\n",
    "    3600,\n",
    "    4100,\n",
    "    3100,\n",
    "    3800,\n",
    "    4000,\n",
    "    3200,\n",
    "    4200,\n",
    "]\n",
    "\n",
    "despesas_mensais = [\n",
    "    2800,\n",
    "    3200,\n",
    "    2500,\n",
    "    2900,\n",
    "    3100,\n",
    "    3500,\n",
    "    2800,\n",
    "    3000,\n",
    "    2700,\n",
    "    3300,\n",
    "    2600,\n",
    "    3100,\n",
    "    3200,\n",
    "    2800,\n",
    "    2900,\n",
    "    2600,\n",
    "    3300,\n",
    "    2500,\n",
    "    3100,\n",
    "    3000,\n",
    "    2700,\n",
    "    3400,\n",
    "    2800,\n",
    "    3000,\n",
    "    2900,\n",
    "    3200,\n",
    "    2600,\n",
    "    3000,\n",
    "    3100,\n",
    "    2600,\n",
    "    3300,\n",
    "]"
   ],
   "metadata": {
    "id": "-Cp06CjqtHnA"
   },
   "execution_count": null,
   "outputs": []
  },
  {
   "cell_type": "markdown",
   "source": [
    "Faça o mesmo exercício anterior usando o statsmodels"
   ],
   "metadata": {
    "id": "IO4WW4MqtQCp"
   }
  },
  {
   "cell_type": "code",
   "source": [],
   "metadata": {
    "id": "hi5CXw37tQxI"
   },
   "execution_count": null,
   "outputs": []
  },
  {
   "cell_type": "markdown",
   "source": [
    "Calcule o coeficiente de determinação R2 da regressão múltipla"
   ],
   "metadata": {
    "id": "wCVDSBWLtR4A"
   }
  },
  {
   "cell_type": "code",
   "source": [],
   "metadata": {
    "id": "iZWvY5NztWzY"
   },
   "execution_count": null,
   "outputs": []
  },
  {
   "cell_type": "markdown",
   "source": [
    "Variância dos coeficientes estimados"
   ],
   "metadata": {
    "id": "7sLTq1DlUkrT"
   }
  },
  {
   "cell_type": "code",
   "source": [],
   "metadata": {
    "id": "KmanjbMalozB"
   },
   "execution_count": null,
   "outputs": []
  },
  {
   "cell_type": "markdown",
   "source": [
    "Limites inferior e superior dos coeficientes"
   ],
   "metadata": {
    "id": "fQRQXnCRlr6q"
   }
  },
  {
   "cell_type": "code",
   "source": [],
   "metadata": {
    "id": "xffbcwf_lsbh"
   },
   "execution_count": null,
   "outputs": []
  }
 ]
}