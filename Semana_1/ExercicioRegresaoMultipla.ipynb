{
 "cells": [
  {
   "cell_type": "markdown",
   "metadata": {
    "id": "2v2HiQddtE1B"
   },
   "source": [
    "Exercício de Regressão Múltipla:\n",
    "\n",
    "Previsão de Despesas com Base em Variáveis Financeiras\n",
    "\n",
    "Imagine que você trabalhe em uma empresa financeira e precisa prever as despesas mensais de um cliente com base em suas receitas mensais e saldo bancário. Você deseja que seus alunos apliquem a regressão linear múltipla para construir um modelo de previsão.\n",
    "\n",
    "Perguntas:\n",
    "\n",
    "Adicione uma coluna de 1s à matriz X para representar o termo linear.\n",
    "Calcule os coeficientes da regressão linear múltipla.\n",
    "Escreva a equação da regressão linear múltipla.\n",
    "Se um cliente tem Receitas Mensais de 6500 e Saldo Bancário de 3800, qual é a previsão para suas Despesas Mensais?"
   ]
  },
  {
   "cell_type": "code",
   "execution_count": 1,
   "metadata": {
    "id": "-Cp06CjqtHnA"
   },
   "outputs": [],
   "source": [
    "receitas_mensais = [\n",
    "    6000,\n",
    "    8000,\n",
    "    5500,\n",
    "    7000,\n",
    "    7500,\n",
    "    9000,\n",
    "    6800,\n",
    "    7200,\n",
    "    6200,\n",
    "    8500,\n",
    "    5800,\n",
    "    7500,\n",
    "    8000,\n",
    "    6700,\n",
    "    7200,\n",
    "    6300,\n",
    "    8200,\n",
    "    5700,\n",
    "    7500,\n",
    "    7900,\n",
    "    6000,\n",
    "    8300,\n",
    "    6400,\n",
    "    7100,\n",
    "    6600,\n",
    "    7800,\n",
    "    5900,\n",
    "    7400,\n",
    "    7700,\n",
    "    6100,\n",
    "    8200,\n",
    "]\n",
    "\n",
    "saldo_bancario = [\n",
    "    3500,\n",
    "    4200,\n",
    "    3000,\n",
    "    3800,\n",
    "    4000,\n",
    "    4700,\n",
    "    3600,\n",
    "    3800,\n",
    "    3400,\n",
    "    4400,\n",
    "    3100,\n",
    "    3900,\n",
    "    4300,\n",
    "    3500,\n",
    "    3700,\n",
    "    3200,\n",
    "    4200,\n",
    "    3100,\n",
    "    3900,\n",
    "    4000,\n",
    "    3300,\n",
    "    4300,\n",
    "    3400,\n",
    "    3800,\n",
    "    3600,\n",
    "    4100,\n",
    "    3100,\n",
    "    3800,\n",
    "    4000,\n",
    "    3200,\n",
    "    4200,\n",
    "]\n",
    "\n",
    "despesas_mensais = [\n",
    "    2800,\n",
    "    3200,\n",
    "    2500,\n",
    "    2900,\n",
    "    3100,\n",
    "    3500,\n",
    "    2800,\n",
    "    3000,\n",
    "    2700,\n",
    "    3300,\n",
    "    2600,\n",
    "    3100,\n",
    "    3200,\n",
    "    2800,\n",
    "    2900,\n",
    "    2600,\n",
    "    3300,\n",
    "    2500,\n",
    "    3100,\n",
    "    3000,\n",
    "    2700,\n",
    "    3400,\n",
    "    2800,\n",
    "    3000,\n",
    "    2900,\n",
    "    3200,\n",
    "    2600,\n",
    "    3000,\n",
    "    3100,\n",
    "    2600,\n",
    "    3300,\n",
    "]"
   ]
  },
  {
   "cell_type": "code",
   "execution_count": 2,
   "metadata": {},
   "outputs": [],
   "source": [
    "# Importando as bibliotecas necessárias\n",
    "import numpy as np\n",
    "import pandas as pd\n",
    "import statsmodels.api as sm\n",
    "import matplotlib.pyplot as plt"
   ]
  },
  {
   "cell_type": "code",
   "execution_count": 3,
   "metadata": {},
   "outputs": [],
   "source": [
    "X = np.array([receitas_mensais, saldo_bancario]).T\n",
    "\n",
    "# Adicionar coluna de 1s para o termo linear\n",
    "X = np.column_stack((np.ones(len(X)), X))\n",
    "\n",
    "Y = np.array(despesas_mensais).reshape(-1, 1)\n",
    "\n",
    "# Calcular os coeficientes usando a fórmula dos mínimos quadrados (X'X)^{-1}X'y\n",
    "coeficientes = np.linalg.inv(X.T @ X) @ X.T @ Y"
   ]
  },
  {
   "cell_type": "code",
   "execution_count": 4,
   "metadata": {},
   "outputs": [
    {
     "data": {
      "text/plain": [
       "array([[7.08544726e+02],\n",
       "       [4.65077905e-02],\n",
       "       [5.10795862e-01]])"
      ]
     },
     "execution_count": 4,
     "metadata": {},
     "output_type": "execute_result"
    }
   ],
   "source": [
    "coeficientes"
   ]
  },
  {
   "cell_type": "code",
   "execution_count": 5,
   "metadata": {},
   "outputs": [],
   "source": [
    "despesas_estimadas = X @ coeficientes"
   ]
  },
  {
   "cell_type": "code",
   "execution_count": 6,
   "metadata": {},
   "outputs": [
    {
     "data": {
      "text/plain": [
       "array([  24.62301387,  -25.94967065,    3.27484016,  -75.12353529,\n",
       "         -0.53660297,  -27.85539221,  -63.66280477,   15.57490661,\n",
       "        -33.59895804,  -51.36273832,   38.2429168 ,   50.54298324,\n",
       "        -77.02925685,   -7.93243951,  -33.34550719,  -36.09056468,\n",
       "         64.74877125,  -57.10630415,   50.54298324, -119.13971918,\n",
       "         26.78218628,  109.01840599,   57.09948386,   20.22568566,\n",
       "         45.63875334,   34.43147367,   33.59213774,    6.2733485 ,\n",
       "         -9.83816107,  -26.78900657,   64.74877125])"
      ]
     },
     "execution_count": 6,
     "metadata": {},
     "output_type": "execute_result"
    }
   ],
   "source": [
    "np.array(despesas_mensais) - np.array(despesas_estimadas).T[0]"
   ]
  },
  {
   "cell_type": "code",
   "execution_count": 8,
   "metadata": {},
   "outputs": [
    {
     "name": "stdout",
     "output_type": "stream",
     "text": [
      "E_var_despesas_mensais:  [54514.73506537] , var_despesas_mensais:  73465.14047866807\n"
     ]
    }
   ],
   "source": [
    "# componente de horas de estudos na variancia de notas\n",
    "var_receitas_mensais = (coeficientes[1] ** 2) * (np.var(receitas_mensais))\n",
    "var_receitas_mensais\n",
    "\n",
    "# componente de saldo_bancario na variancia de notas\n",
    "var_saldo_bancario = (coeficientes[2] ** 2) * (np.var(saldo_bancario))\n",
    "var_saldo_bancario\n",
    "\n",
    "# componente de residuos na variancia de notas\n",
    "residuo = np.array(despesas_mensais) - np.array(despesas_estimadas).T[0]\n",
    "var_residuos = np.var(residuo)\n",
    "\n",
    "print(\n",
    "    \"E_var_despesas_mensais: \",\n",
    "    var_receitas_mensais + var_saldo_bancario + var_residuos,\n",
    "    \", var_despesas_mensais: \",\n",
    "    np.var(despesas_mensais),\n",
    ")"
   ]
  },
  {
   "cell_type": "code",
   "execution_count": 9,
   "metadata": {},
   "outputs": [
    {
     "data": {
      "image/png": "[encoded data removed]",
      "text/plain": [
       "<Figure size 1000x600 with 1 Axes>"
      ]
     },
     "metadata": {},
     "output_type": "display_data"
    }
   ],
   "source": [
    "# Calcular os resíduos\n",
    "residuos = Y - despesas_estimadas\n",
    "\n",
    "# Plotar gráfico de resíduos versus valores previstos\n",
    "plt.figure(figsize=(10, 6))\n",
    "plt.scatter(despesas_estimadas, residuos)\n",
    "plt.axhline(y=0, color=\"r\", linestyle=\"--\")\n",
    "plt.xlabel(\"Valores Previstos\")\n",
    "plt.ylabel(\"Resíduos\")\n",
    "plt.title(\"Análise de Resíduos\")\n",
    "plt.grid()\n",
    "plt.show()"
   ]
  },
  {
   "cell_type": "markdown",
   "metadata": {
    "id": "IO4WW4MqtQCp"
   },
   "source": [
    "Faça o mesmo exercício anterior usando o statsmodels"
   ]
  },
  {
   "cell_type": "code",
   "execution_count": 11,
   "metadata": {
    "id": "hi5CXw37tQxI"
   },
   "outputs": [
    {
     "name": "stdout",
     "output_type": "stream",
     "text": [
      "                            OLS Regression Results                            \n",
      "==============================================================================\n",
      "Dep. Variable:       despesas_mensais   R-squared:                       0.966\n",
      "Model:                            OLS   Adj. R-squared:                  0.963\n",
      "Method:                 Least Squares   F-statistic:                     394.2\n",
      "Date:                Sun, 15 Oct 2023   Prob (F-statistic):           3.12e-21\n",
      "Time:                        10:59:25   Log-Likelihood:                -165.38\n",
      "No. Observations:                  31   AIC:                             336.8\n",
      "Df Residuals:                      28   BIC:                             341.1\n",
      "Df Model:                           2                                         \n",
      "Covariance Type:            nonrobust                                         \n",
      "====================================================================================\n",
      "                       coef    std err          t      P>|t|      [0.025      0.975]\n",
      "------------------------------------------------------------------------------------\n",
      "const              708.5447     89.210      7.942      0.000     525.807     891.283\n",
      "saldo_bancario       0.5108      0.113      4.537      0.000       0.280       0.741\n",
      "receitas_mensais     0.0465      0.053      0.874      0.390      -0.063       0.156\n",
      "==============================================================================\n",
      "Omnibus:                        0.276   Durbin-Watson:                   2.099\n",
      "Prob(Omnibus):                  0.871   Jarque-Bera (JB):                0.374\n",
      "Skew:                          -0.197   Prob(JB):                        0.830\n",
      "Kurtosis:                       2.635   Cond. No.                     7.61e+04\n",
      "==============================================================================\n",
      "\n",
      "Notes:\n",
      "[1] Standard Errors assume that the covariance matrix of the errors is correctly specified.\n",
      "[2] The condition number is large, 7.61e+04. This might indicate that there are\n",
      "strong multicollinearity or other numerical problems.\n",
      "y estimado para 1a linha: 0    2775.376986\n",
      "dtype: float64\n"
     ]
    }
   ],
   "source": [
    "\n",
    "despesas = pd.DataFrame(\n",
    "    {\"saldo_bancario\": saldo_bancario, \"receitas_mensais\": receitas_mensais, \"despesas_mensais\": despesas_mensais}\n",
    ")\n",
    "\n",
    "# Adicionando uma coluna de 1s (termo linear) ao DataFrame\n",
    "despesas = sm.add_constant(despesas)\n",
    "\n",
    "# Definindo as variáveis independentes (X) e a variável dependente (y)\n",
    "X = despesas.drop(\n",
    "    \"despesas_mensais\", axis=1\n",
    ")  # Excluindo a coluna para obter as variáveis independentes (features)\n",
    "y = despesas.despesas_mensais  # Definindo a variável dependente (target ou alvo)\n",
    "\n",
    "# Criando o modelo de regressão linear\n",
    "model = sm.OLS(y, X).fit()\n",
    "\n",
    "# Exibindo um resumo da análise de regressão\n",
    "print(model.summary())\n",
    "\n",
    "# Fazendo uma previsão com o modelo usando os dados da primeira linha\n",
    "previsao_primeira_linha = model.predict(X.head(1))\n",
    "print(\"y estimado para 1a linha:\", previsao_primeira_linha)"
   ]
  },
  {
   "cell_type": "markdown",
   "metadata": {
    "id": "wCVDSBWLtR4A"
   },
   "source": [
    "Calcule o coeficiente de determinação R2 da regressão múltipla"
   ]
  },
  {
   "cell_type": "code",
   "execution_count": 12,
   "metadata": {
    "id": "iZWvY5NztWzY"
   },
   "outputs": [
    {
     "name": "stdout",
     "output_type": "stream",
     "text": [
      "[0.96569895]\n"
     ]
    }
   ],
   "source": [
    "SQE = sum((despesas_estimadas - np.mean(despesas_estimadas)) ** 2)\n",
    "SQT = sum((despesas_mensais - np.mean(despesas_mensais)) ** 2)\n",
    "\n",
    "R2 = SQE / SQT\n",
    "\n",
    "print(R2)"
   ]
  },
  {
   "cell_type": "markdown",
   "metadata": {
    "id": "7sLTq1DlUkrT"
   },
   "source": [
    "Variância dos coeficientes estimados"
   ]
  },
  {
   "cell_type": "code",
   "execution_count": 13,
   "metadata": {
    "id": "KmanjbMalozB"
   },
   "outputs": [
    {
     "name": "stdout",
     "output_type": "stream",
     "text": [
      "[8.61849576e+01 1.08775747e-01 5.14270564e-02]\n"
     ]
    }
   ],
   "source": [
    "var_resid = model.resid.var()\n",
    "dp_coeficientes = np.diag(var_resid * np.linalg.inv(X.T @ X)) ** 0.5\n",
    "\n",
    "print(dp_coeficientes)"
   ]
  },
  {
   "cell_type": "markdown",
   "metadata": {
    "id": "fQRQXnCRlr6q"
   },
   "source": [
    "Limites inferior e superior dos coeficientes"
   ]
  },
  {
   "cell_type": "code",
   "execution_count": 14,
   "metadata": {
    "id": "xffbcwf_lsbh"
   },
   "outputs": [
    {
     "name": "stdout",
     "output_type": "stream",
     "text": [
      "IC_inferior_alfa: [539.62220876] , IC_superior_alfa: [877.46724267]\n",
      "IC_inferior_horas_estudo: [-0.16669267] , IC_superior_horas_estudo: [0.25970826]\n",
      "IC_inferior_exercicios: [0.40999883] , IC_superior_exercicios: [0.61159289]\n"
     ]
    }
   ],
   "source": [
    "IC_inferior = coeficientes[0] - 1.96 * dp_coeficientes[0]\n",
    "IC_superior = coeficientes[0] + 1.96 * dp_coeficientes[0]\n",
    "print(\"IC_inferior_alfa:\", IC_inferior, \", IC_superior_alfa:\", IC_superior)\n",
    "\n",
    "IC_inferior = coeficientes[1] - 1.96 * dp_coeficientes[1]\n",
    "IC_superior = coeficientes[1] + 1.96 * dp_coeficientes[1]\n",
    "print(\n",
    "    \"IC_inferior_horas_estudo:\", IC_inferior, \", IC_superior_horas_estudo:\", IC_superior\n",
    ")\n",
    "\n",
    "IC_inferior = coeficientes[2] - 1.96 * dp_coeficientes[2]\n",
    "IC_superior = coeficientes[2] + 1.96 * dp_coeficientes[2]\n",
    "print(\"IC_inferior_exercicios:\", IC_inferior, \", IC_superior_exercicios:\", IC_superior)"
   ]
  }
 ],
 "metadata": {
  "colab": {
   "provenance": []
  },
  "kernelspec": {
   "display_name": "Python 3",
   "name": "python3"
  },
  "language_info": {
   "codemirror_mode": {
    "name": "ipython",
    "version": 3
   },
   "file_extension": ".py",
   "mimetype": "text/x-python",
   "name": "python",
   "nbconvert_exporter": "python",
   "pygments_lexer": "ipython3",
   "version": "3.11.1"
  }
 },
 "nbformat": 4,
 "nbformat_minor": 0
}
